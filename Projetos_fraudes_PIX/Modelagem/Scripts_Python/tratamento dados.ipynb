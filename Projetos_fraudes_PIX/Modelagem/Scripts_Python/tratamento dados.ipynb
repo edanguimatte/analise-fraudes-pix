{
  "nbformat": 4,
  "nbformat_minor": 0,
  "metadata": {
    "colab": {
      "provenance": []
    },
    "kernelspec": {
      "name": "python3",
      "display_name": "Python 3"
    },
    "language_info": {
      "name": "python"
    }
  },
  "cells": [
    {
      "cell_type": "code",
      "execution_count": null,
      "metadata": {
        "colab": {
          "base_uri": "https://localhost:8080/"
        },
        "id": "w4cSwqZwltD6",
        "outputId": "7e781d80-5b4a-4f94-84af-6570d54941e3"
      },
      "outputs": [
        {
          "output_type": "stream",
          "name": "stdout",
          "text": [
            "### Escolaridade ###\n",
            "    Ano Região Estado  Sem instrução/Fund. incompleto (mil pessoas)  \\\n",
            "0  2016  Norte     RO                                         202.5   \n",
            "1  2016  Norte     AC                                         250.1   \n",
            "2  2016  Norte     AM                                         839.8   \n",
            "3  2016  Norte     RR                                         196.7   \n",
            "4  2016  Norte     PA                                         215.8   \n",
            "\n",
            "   Fund. completo/Médio incompleto (mil pessoas)  \\\n",
            "0                                         1926.6   \n",
            "1                                          763.6   \n",
            "2                                         2972.1   \n",
            "3                                          986.3   \n",
            "4                                         1376.6   \n",
            "\n",
            "   Médio completo (mil pessoas)  Superior completo (mil pessoas)  \\\n",
            "0                        1677.3                           1386.5   \n",
            "1                         816.2                            803.1   \n",
            "2                        2371.1                           2050.0   \n",
            "3                         882.3                            744.6   \n",
            "4                        1551.6                           2689.0   \n",
            "\n",
            "   Sem instrução/Fund. incompleto (%)  Fund. completo/Médio incompleto (%)  \\\n",
            "0                                 3.9                                 37.1   \n",
            "1                                 9.5                                 29.0   \n",
            "2                                10.2                                 36.1   \n",
            "3                                 7.0                                 35.1   \n",
            "4                                 3.7                                 23.6   \n",
            "\n",
            "   Médio completo (%)  Superior completo (%)  \n",
            "0                32.3                   26.7  \n",
            "1                31.0                   30.5  \n",
            "2                28.8                   24.9  \n",
            "3                31.4                   26.5  \n",
            "4                26.6                   46.1  \n",
            "<class 'pandas.core.frame.DataFrame'>\n",
            "RangeIndex: 216 entries, 0 to 215\n",
            "Data columns (total 11 columns):\n",
            " #   Column                                         Non-Null Count  Dtype  \n",
            "---  ------                                         --------------  -----  \n",
            " 0   Ano                                            216 non-null    int64  \n",
            " 1   Região                                         216 non-null    object \n",
            " 2   Estado                                         216 non-null    object \n",
            " 3   Sem instrução/Fund. incompleto (mil pessoas)   216 non-null    float64\n",
            " 4   Fund. completo/Médio incompleto (mil pessoas)  216 non-null    float64\n",
            " 5   Médio completo (mil pessoas)                   216 non-null    float64\n",
            " 6   Superior completo (mil pessoas)                216 non-null    float64\n",
            " 7   Sem instrução/Fund. incompleto (%)             216 non-null    float64\n",
            " 8   Fund. completo/Médio incompleto (%)            216 non-null    float64\n",
            " 9   Médio completo (%)                             216 non-null    float64\n",
            " 10  Superior completo (%)                          216 non-null    float64\n",
            "dtypes: float64(8), int64(1), object(2)\n",
            "memory usage: 18.7+ KB\n",
            "None\n"
          ]
        }
      ],
      "source": [
        "# Passo 0 - Preparação\n",
        "\n",
        "import pandas as pd\n",
        "import os\n",
        "\n",
        "# Criar pasta de saída\n",
        "os.makedirs(\"outputs\", exist_ok=True)\n",
        "\n",
        "# Carregar arquivos (com nomes corrigidos)\n",
        "escolaridade = pd.read_excel(\"escolaridade.xlsx\")\n",
        "natureza = pd.read_csv(\"natureza_transacoes.csv\")\n",
        "pix_saque_troco = pd.read_csv(\"pix-saque-e-pix-troco.csv\")\n",
        "transacoes_regiao = pd.read_csv(\"PixTransacoesPorRegiao.csv\")\n",
        "usuarios_pix = pd.read_csv(\"PixUsuariosFizeramPix.csv\")\n",
        "populacao = pd.read_excel(\"Populacao.xlsx\")\n",
        "renda = pd.read_excel(\"Renda.xlsx\")\n",
        "transacoes_pix = pd.read_csv(\"transacoes_pix.csv\")\n",
        "idade = pd.read_csv(\"TransacoesPorIdade.csv\")\n",
        "iniciador = pd.read_csv(\"transaes-por-iniciador-d.csv\")\n",
        "\n",
        "# Testar apenas a primeira base\n",
        "print(\"### Escolaridade ###\")\n",
        "print(escolaridade.head())\n",
        "print(escolaridade.info())\n"
      ]
    },
    {
      "cell_type": "code",
      "source": [
        "# Bloco 2 - Teste de Natureza, População e Renda\n",
        "\n",
        "print(\"### Natureza ###\")\n",
        "print(natureza.head())\n",
        "print(natureza.info())\n",
        "\n",
        "print(\"\\n### População ###\")\n",
        "print(populacao.head())\n",
        "print(populacao.info())\n",
        "\n",
        "print(\"\\n### Renda ###\")\n",
        "print(renda.head())\n",
        "print(renda.info())\n"
      ],
      "metadata": {
        "colab": {
          "base_uri": "https://localhost:8080/"
        },
        "id": "0W-81U7oogwu",
        "outputId": "c6496097-293d-429c-da1f-cbf7809519bf"
      },
      "execution_count": null,
      "outputs": [
        {
          "output_type": "stream",
          "name": "stdout",
          "text": [
            "### Natureza ###\n",
            "  DateTime;\"G2P\";\"P2G\";\"G2G\";\"G2B\";\"B2G\";\"P2B\";\"B2P\";\"P2P\";\"B2B\"\n",
            "0  2023-09-30;551084;1487768;2724288;4240135;2095...            \n",
            "1  2023-10-31;504331;1523675;2815665;2937055;2416...            \n",
            "2  2023-11-30;509125;1496905;3801078;3638536;2333...            \n",
            "3  2023-12-31;763809;2216253;6195929;4844431;2810...            \n",
            "4  2024-01-31;427235;3529039;2536019;1867153;3700...            \n",
            "<class 'pandas.core.frame.DataFrame'>\n",
            "RangeIndex: 24 entries, 0 to 23\n",
            "Data columns (total 1 columns):\n",
            " #   Column                                                          Non-Null Count  Dtype \n",
            "---  ------                                                          --------------  ----- \n",
            " 0   DateTime;\"G2P\";\"P2G\";\"G2G\";\"G2B\";\"B2G\";\"P2B\";\"B2P\";\"P2P\";\"B2B\"  24 non-null     object\n",
            "dtypes: object(1)\n",
            "memory usage: 324.0+ bytes\n",
            "None\n",
            "\n",
            "### População ###\n",
            "  Nível  Cód. Brasil, Grande Região, Unidade da Federação e Município  \\\n",
            "0    BR   1.0                                             Brasil        \n",
            "1    GR   1.0                                              Norte        \n",
            "2    GR   2.0                                           Nordeste        \n",
            "3    GR   3.0                                            Sudeste        \n",
            "4    GR   4.0                                                Sul        \n",
            "\n",
            "        2018 Unnamed: 4       2019 Unnamed: 6       2020 Unnamed: 8  \\\n",
            "0  208494900    Pessoas  210147125    Pessoas  211755692    Pessoas   \n",
            "1   18182253    Pessoas   18430980    Pessoas   18672591    Pessoas   \n",
            "2   56760780    Pessoas   57071654    Pessoas   57374243    Pessoas   \n",
            "3   87711946    Pessoas   88371433    Pessoas   89012240    Pessoas   \n",
            "4   29754036    Pessoas   29975984    Pessoas   30192315    Pessoas   \n",
            "\n",
            "        2021 Unnamed: 10       2024 Unnamed: 12         2025 Unnamed: 14  \n",
            "0  213317639     Pessoas  212583750     Pessoas  213421037.0     Pessoas  \n",
            "1   18906962     Pessoas   18669345     Pessoas   18801282.0     Pessoas  \n",
            "2   57667842     Pessoas   57112096     Pessoas   57244485.0     Pessoas  \n",
            "3   89632912     Pessoas   88617693     Pessoas   88825643.0     Pessoas  \n",
            "4   30402587     Pessoas   31113021     Pessoas   31310809.0     Pessoas  \n",
            "<class 'pandas.core.frame.DataFrame'>\n",
            "RangeIndex: 5605 entries, 0 to 5604\n",
            "Data columns (total 15 columns):\n",
            " #   Column                                                   Non-Null Count  Dtype  \n",
            "---  ------                                                   --------------  -----  \n",
            " 0   Nível                                                    5605 non-null   object \n",
            " 1   Cód.                                                     5604 non-null   float64\n",
            " 2   Brasil, Grande Região, Unidade da Federação e Município  5604 non-null   object \n",
            " 3   2018                                                     5604 non-null   object \n",
            " 4   Unnamed: 4                                               5604 non-null   object \n",
            " 5   2019                                                     5604 non-null   object \n",
            " 6   Unnamed: 6                                               5604 non-null   object \n",
            " 7   2020                                                     5604 non-null   object \n",
            " 8   Unnamed: 8                                               5604 non-null   object \n",
            " 9   2021                                                     5604 non-null   object \n",
            " 10  Unnamed: 10                                              5604 non-null   object \n",
            " 11  2024                                                     5604 non-null   object \n",
            " 12  Unnamed: 12                                              5604 non-null   object \n",
            " 13  2025                                                     5604 non-null   float64\n",
            " 14  Unnamed: 14                                              5604 non-null   object \n",
            "dtypes: float64(2), object(13)\n",
            "memory usage: 657.0+ KB\n",
            "None\n",
            "\n",
            "### Renda ###\n",
            "  Nível  Cód. Brasil, Grande Região, Unidade da Federação e Município  \\\n",
            "0    BR   1.0                                             Brasil        \n",
            "1    GR   1.0                                              Norte        \n",
            "2    GR   2.0                                           Nordeste        \n",
            "3    GR   3.0                                            Sudeste        \n",
            "4    GR   4.0                                                Sul        \n",
            "\n",
            "      2018    Unnamed: 4     2019    Unnamed: 6     2020    Unnamed: 8  \\\n",
            "0  59350.0  Mil unidades  60545.0  Mil unidades  66393.0  Mil unidades   \n",
            "1   3802.0  Mil unidades   3898.0  Mil unidades   4737.0  Mil unidades   \n",
            "2  12718.0  Mil unidades  13147.0  Mil unidades  15960.0  Mil unidades   \n",
            "3  28006.0  Mil unidades  28440.0  Mil unidades  29958.0  Mil unidades   \n",
            "4   9928.0  Mil unidades  10120.0  Mil unidades  10480.0  Mil unidades   \n",
            "\n",
            "      2021   Unnamed: 10     2022   Unnamed: 12     2023   Unnamed: 14  \\\n",
            "0  66093.0  Mil unidades  62233.0  Mil unidades  62951.0  Mil unidades   \n",
            "1   4659.0  Mil unidades   4029.0  Mil unidades   4063.0  Mil unidades   \n",
            "2  15400.0  Mil unidades  12873.0  Mil unidades  13180.0  Mil unidades   \n",
            "3  30079.0  Mil unidades  29650.0  Mil unidades  29793.0  Mil unidades   \n",
            "4  10589.0  Mil unidades  10484.0  Mil unidades  10550.0  Mil unidades   \n",
            "\n",
            "      2024   Unnamed: 16  \n",
            "0  64296.0  Mil unidades  \n",
            "1   4137.0  Mil unidades  \n",
            "2  13621.0  Mil unidades  \n",
            "3  30457.0  Mil unidades  \n",
            "4  10673.0  Mil unidades  \n",
            "<class 'pandas.core.frame.DataFrame'>\n",
            "RangeIndex: 34 entries, 0 to 33\n",
            "Data columns (total 17 columns):\n",
            " #   Column                                                   Non-Null Count  Dtype  \n",
            "---  ------                                                   --------------  -----  \n",
            " 0   Nível                                                    34 non-null     object \n",
            " 1   Cód.                                                     33 non-null     float64\n",
            " 2   Brasil, Grande Região, Unidade da Federação e Município  33 non-null     object \n",
            " 3   2018                                                     33 non-null     float64\n",
            " 4   Unnamed: 4                                               33 non-null     object \n",
            " 5   2019                                                     33 non-null     float64\n",
            " 6   Unnamed: 6                                               33 non-null     object \n",
            " 7   2020                                                     33 non-null     float64\n",
            " 8   Unnamed: 8                                               33 non-null     object \n",
            " 9   2021                                                     33 non-null     float64\n",
            " 10  Unnamed: 10                                              33 non-null     object \n",
            " 11  2022                                                     33 non-null     float64\n",
            " 12  Unnamed: 12                                              33 non-null     object \n",
            " 13  2023                                                     33 non-null     float64\n",
            " 14  Unnamed: 14                                              33 non-null     object \n",
            " 15  2024                                                     33 non-null     float64\n",
            " 16  Unnamed: 16                                              33 non-null     object \n",
            "dtypes: float64(8), object(9)\n",
            "memory usage: 4.6+ KB\n",
            "None\n"
          ]
        }
      ]
    },
    {
      "cell_type": "code",
      "source": [
        "# --- Corrigir Natureza ---\n",
        "natureza = pd.read_csv(\"natureza_transacoes.csv\", sep=\";\")\n",
        "print(\"Natureza corrigida:\")\n",
        "print(natureza.head())\n",
        "print(natureza.info())\n",
        "\n",
        "# --- Corrigir População ---\n",
        "# Mantém apenas colunas principais (drop nas \"Unnamed\")\n",
        "populacao_corr = populacao.drop([col for col in populacao.columns if \"Unnamed\" in col], axis=1)\n",
        "\n",
        "# Converter colunas de anos para numéricas\n",
        "for col in populacao_corr.columns[3:]:\n",
        "    populacao_corr[col] = pd.to_numeric(populacao_corr[col], errors=\"coerce\")\n",
        "\n",
        "print(\"\\nPopulação corrigida:\")\n",
        "print(populacao_corr.head())\n",
        "print(populacao_corr.info())\n",
        "\n",
        "# --- Corrigir Renda ---\n",
        "renda_corr = renda.drop([col for col in renda.columns if \"Unnamed\" in col], axis=1)\n",
        "\n",
        "# Converter colunas de anos para numéricas\n",
        "for col in renda_corr.columns[3:]:\n",
        "    renda_corr[col] = pd.to_numeric(renda_corr[col], errors=\"coerce\")\n",
        "\n",
        "print(\"\\nRenda corrigida:\")\n",
        "print(renda_corr.head())\n",
        "print(renda_corr.info())\n"
      ],
      "metadata": {
        "colab": {
          "base_uri": "https://localhost:8080/"
        },
        "id": "NyFcpoWeotyb",
        "outputId": "3dc3f023-1fad-46cb-9ae9-7e426fefbcaa"
      },
      "execution_count": null,
      "outputs": [
        {
          "output_type": "stream",
          "name": "stdout",
          "text": [
            "Natureza corrigida:\n",
            "     DateTime     G2P      P2G      G2G      G2B      B2G        P2B  \\\n",
            "0  2023-09-30  551084  1487768  2724288  4240135  2095800  148904738   \n",
            "1  2023-10-31  504331  1523675  2815665  2937055  2416535  159759114   \n",
            "2  2023-11-30  509125  1496905  3801078  3638536  2333693  168279100   \n",
            "3  2023-12-31  763809  2216253  6195929  4844431  2810671  188799580   \n",
            "4  2024-01-31  427235  3529039  2536019  1867153  3700214  177434077   \n",
            "\n",
            "         B2P        P2P        B2B  \n",
            "0  169945106  440151172  507061886  \n",
            "1  180460792  457034516  572732452  \n",
            "2  185396515  470730810  585903836  \n",
            "3  212165413  547626441  634072989  \n",
            "4  193109328  479011524  621592910  \n",
            "<class 'pandas.core.frame.DataFrame'>\n",
            "RangeIndex: 24 entries, 0 to 23\n",
            "Data columns (total 10 columns):\n",
            " #   Column    Non-Null Count  Dtype \n",
            "---  ------    --------------  ----- \n",
            " 0   DateTime  24 non-null     object\n",
            " 1   G2P       24 non-null     int64 \n",
            " 2   P2G       24 non-null     int64 \n",
            " 3   G2G       24 non-null     int64 \n",
            " 4   G2B       24 non-null     int64 \n",
            " 5   B2G       24 non-null     int64 \n",
            " 6   P2B       24 non-null     int64 \n",
            " 7   B2P       24 non-null     int64 \n",
            " 8   P2P       24 non-null     int64 \n",
            " 9   B2B       24 non-null     int64 \n",
            "dtypes: int64(9), object(1)\n",
            "memory usage: 2.0+ KB\n",
            "None\n",
            "\n",
            "População corrigida:\n",
            "  Nível  Cód. Brasil, Grande Região, Unidade da Federação e Município  \\\n",
            "0    BR   1.0                                             Brasil        \n",
            "1    GR   1.0                                              Norte        \n",
            "2    GR   2.0                                           Nordeste        \n",
            "3    GR   3.0                                            Sudeste        \n",
            "4    GR   4.0                                                Sul        \n",
            "\n",
            "          2018         2019         2020         2021         2024  \\\n",
            "0  208494900.0  210147125.0  211755692.0  213317639.0  212583750.0   \n",
            "1   18182253.0   18430980.0   18672591.0   18906962.0   18669345.0   \n",
            "2   56760780.0   57071654.0   57374243.0   57667842.0   57112096.0   \n",
            "3   87711946.0   88371433.0   89012240.0   89632912.0   88617693.0   \n",
            "4   29754036.0   29975984.0   30192315.0   30402587.0   31113021.0   \n",
            "\n",
            "          2025  \n",
            "0  213421037.0  \n",
            "1   18801282.0  \n",
            "2   57244485.0  \n",
            "3   88825643.0  \n",
            "4   31310809.0  \n",
            "<class 'pandas.core.frame.DataFrame'>\n",
            "RangeIndex: 5605 entries, 0 to 5604\n",
            "Data columns (total 9 columns):\n",
            " #   Column                                                   Non-Null Count  Dtype  \n",
            "---  ------                                                   --------------  -----  \n",
            " 0   Nível                                                    5605 non-null   object \n",
            " 1   Cód.                                                     5604 non-null   float64\n",
            " 2   Brasil, Grande Região, Unidade da Federação e Município  5604 non-null   object \n",
            " 3   2018                                                     5603 non-null   float64\n",
            " 4   2019                                                     5603 non-null   float64\n",
            " 5   2020                                                     5603 non-null   float64\n",
            " 6   2021                                                     5603 non-null   float64\n",
            " 7   2024                                                     5603 non-null   float64\n",
            " 8   2025                                                     5604 non-null   float64\n",
            "dtypes: float64(7), object(2)\n",
            "memory usage: 394.2+ KB\n",
            "None\n",
            "\n",
            "Renda corrigida:\n",
            "  Nível  Cód. Brasil, Grande Região, Unidade da Federação e Município  \\\n",
            "0    BR   1.0                                             Brasil        \n",
            "1    GR   1.0                                              Norte        \n",
            "2    GR   2.0                                           Nordeste        \n",
            "3    GR   3.0                                            Sudeste        \n",
            "4    GR   4.0                                                Sul        \n",
            "\n",
            "      2018     2019     2020     2021     2022     2023     2024  \n",
            "0  59350.0  60545.0  66393.0  66093.0  62233.0  62951.0  64296.0  \n",
            "1   3802.0   3898.0   4737.0   4659.0   4029.0   4063.0   4137.0  \n",
            "2  12718.0  13147.0  15960.0  15400.0  12873.0  13180.0  13621.0  \n",
            "3  28006.0  28440.0  29958.0  30079.0  29650.0  29793.0  30457.0  \n",
            "4   9928.0  10120.0  10480.0  10589.0  10484.0  10550.0  10673.0  \n",
            "<class 'pandas.core.frame.DataFrame'>\n",
            "RangeIndex: 34 entries, 0 to 33\n",
            "Data columns (total 10 columns):\n",
            " #   Column                                                   Non-Null Count  Dtype  \n",
            "---  ------                                                   --------------  -----  \n",
            " 0   Nível                                                    34 non-null     object \n",
            " 1   Cód.                                                     33 non-null     float64\n",
            " 2   Brasil, Grande Região, Unidade da Federação e Município  33 non-null     object \n",
            " 3   2018                                                     33 non-null     float64\n",
            " 4   2019                                                     33 non-null     float64\n",
            " 5   2020                                                     33 non-null     float64\n",
            " 6   2021                                                     33 non-null     float64\n",
            " 7   2022                                                     33 non-null     float64\n",
            " 8   2023                                                     33 non-null     float64\n",
            " 9   2024                                                     33 non-null     float64\n",
            "dtypes: float64(8), object(2)\n",
            "memory usage: 2.8+ KB\n",
            "None\n"
          ]
        }
      ]
    },
    {
      "cell_type": "code",
      "source": [
        "# Salvando datasets corrigidos\n",
        "\n",
        "natureza.to_csv(\"natureza_corr.csv\", index=False, encoding=\"utf-8-sig\")\n",
        "populacao.to_csv(\"populacao_corr.csv\", index=False, encoding=\"utf-8-sig\")\n",
        "renda.to_csv(\"renda_corr.csv\", index=False, encoding=\"utf-8-sig\")\n",
        "\n",
        "print(\"Arquivos corrigidos salvos com sucesso!\")\n"
      ],
      "metadata": {
        "colab": {
          "base_uri": "https://localhost:8080/"
        },
        "id": "CkhL6Kk6pFDj",
        "outputId": "19a13e7b-a946-4633-a83b-8238726ffc7c"
      },
      "execution_count": null,
      "outputs": [
        {
          "output_type": "stream",
          "name": "stdout",
          "text": [
            "Arquivos corrigidos salvos com sucesso!\n"
          ]
        }
      ]
    },
    {
      "cell_type": "code",
      "source": [
        "from google.colab import files\n",
        "files.download(\"natureza_corr.csv\")\n"
      ],
      "metadata": {
        "colab": {
          "base_uri": "https://localhost:8080/",
          "height": 17
        },
        "id": "_EWhmxNopHbu",
        "outputId": "7839789d-722b-42e5-901d-082e83b371d1"
      },
      "execution_count": null,
      "outputs": [
        {
          "output_type": "display_data",
          "data": {
            "text/plain": [
              "<IPython.core.display.Javascript object>"
            ],
            "application/javascript": [
              "\n",
              "    async function download(id, filename, size) {\n",
              "      if (!google.colab.kernel.accessAllowed) {\n",
              "        return;\n",
              "      }\n",
              "      const div = document.createElement('div');\n",
              "      const label = document.createElement('label');\n",
              "      label.textContent = `Downloading \"${filename}\": `;\n",
              "      div.appendChild(label);\n",
              "      const progress = document.createElement('progress');\n",
              "      progress.max = size;\n",
              "      div.appendChild(progress);\n",
              "      document.body.appendChild(div);\n",
              "\n",
              "      const buffers = [];\n",
              "      let downloaded = 0;\n",
              "\n",
              "      const channel = await google.colab.kernel.comms.open(id);\n",
              "      // Send a message to notify the kernel that we're ready.\n",
              "      channel.send({})\n",
              "\n",
              "      for await (const message of channel.messages) {\n",
              "        // Send a message to notify the kernel that we're ready.\n",
              "        channel.send({})\n",
              "        if (message.buffers) {\n",
              "          for (const buffer of message.buffers) {\n",
              "            buffers.push(buffer);\n",
              "            downloaded += buffer.byteLength;\n",
              "            progress.value = downloaded;\n",
              "          }\n",
              "        }\n",
              "      }\n",
              "      const blob = new Blob(buffers, {type: 'application/binary'});\n",
              "      const a = document.createElement('a');\n",
              "      a.href = window.URL.createObjectURL(blob);\n",
              "      a.download = filename;\n",
              "      div.appendChild(a);\n",
              "      a.click();\n",
              "      div.remove();\n",
              "    }\n",
              "  "
            ]
          },
          "metadata": {}
        },
        {
          "output_type": "display_data",
          "data": {
            "text/plain": [
              "<IPython.core.display.Javascript object>"
            ],
            "application/javascript": [
              "download(\"download_636a2685-4247-4797-9482-d2d51d645ba6\", \"natureza_corr.csv\", 2240)"
            ]
          },
          "metadata": {}
        }
      ]
    },
    {
      "cell_type": "code",
      "source": [
        "from google.colab import files\n",
        "files.download(\"populacao_corr.csv\")\n"
      ],
      "metadata": {
        "colab": {
          "base_uri": "https://localhost:8080/",
          "height": 17
        },
        "id": "MLlRX04epZan",
        "outputId": "a5b16b43-e276-45c1-ac31-251f7d524d7d"
      },
      "execution_count": null,
      "outputs": [
        {
          "output_type": "display_data",
          "data": {
            "text/plain": [
              "<IPython.core.display.Javascript object>"
            ],
            "application/javascript": [
              "\n",
              "    async function download(id, filename, size) {\n",
              "      if (!google.colab.kernel.accessAllowed) {\n",
              "        return;\n",
              "      }\n",
              "      const div = document.createElement('div');\n",
              "      const label = document.createElement('label');\n",
              "      label.textContent = `Downloading \"${filename}\": `;\n",
              "      div.appendChild(label);\n",
              "      const progress = document.createElement('progress');\n",
              "      progress.max = size;\n",
              "      div.appendChild(progress);\n",
              "      document.body.appendChild(div);\n",
              "\n",
              "      const buffers = [];\n",
              "      let downloaded = 0;\n",
              "\n",
              "      const channel = await google.colab.kernel.comms.open(id);\n",
              "      // Send a message to notify the kernel that we're ready.\n",
              "      channel.send({})\n",
              "\n",
              "      for await (const message of channel.messages) {\n",
              "        // Send a message to notify the kernel that we're ready.\n",
              "        channel.send({})\n",
              "        if (message.buffers) {\n",
              "          for (const buffer of message.buffers) {\n",
              "            buffers.push(buffer);\n",
              "            downloaded += buffer.byteLength;\n",
              "            progress.value = downloaded;\n",
              "          }\n",
              "        }\n",
              "      }\n",
              "      const blob = new Blob(buffers, {type: 'application/binary'});\n",
              "      const a = document.createElement('a');\n",
              "      a.href = window.URL.createObjectURL(blob);\n",
              "      a.download = filename;\n",
              "      div.appendChild(a);\n",
              "      a.click();\n",
              "      div.remove();\n",
              "    }\n",
              "  "
            ]
          },
          "metadata": {}
        },
        {
          "output_type": "display_data",
          "data": {
            "text/plain": [
              "<IPython.core.display.Javascript object>"
            ],
            "application/javascript": [
              "download(\"download_9fd12ce8-886d-4806-9d6f-e2a46b13814f\", \"populacao_corr.csv\", 643892)"
            ]
          },
          "metadata": {}
        }
      ]
    },
    {
      "cell_type": "code",
      "source": [
        "from google.colab import files\n",
        "files.download(\"renda_corr.csv\")\n"
      ],
      "metadata": {
        "colab": {
          "base_uri": "https://localhost:8080/",
          "height": 17
        },
        "id": "Xsw1cDQepglJ",
        "outputId": "54ffcccf-0c5e-47ae-f9e9-a488c7d3037b"
      },
      "execution_count": null,
      "outputs": [
        {
          "output_type": "display_data",
          "data": {
            "text/plain": [
              "<IPython.core.display.Javascript object>"
            ],
            "application/javascript": [
              "\n",
              "    async function download(id, filename, size) {\n",
              "      if (!google.colab.kernel.accessAllowed) {\n",
              "        return;\n",
              "      }\n",
              "      const div = document.createElement('div');\n",
              "      const label = document.createElement('label');\n",
              "      label.textContent = `Downloading \"${filename}\": `;\n",
              "      div.appendChild(label);\n",
              "      const progress = document.createElement('progress');\n",
              "      progress.max = size;\n",
              "      div.appendChild(progress);\n",
              "      document.body.appendChild(div);\n",
              "\n",
              "      const buffers = [];\n",
              "      let downloaded = 0;\n",
              "\n",
              "      const channel = await google.colab.kernel.comms.open(id);\n",
              "      // Send a message to notify the kernel that we're ready.\n",
              "      channel.send({})\n",
              "\n",
              "      for await (const message of channel.messages) {\n",
              "        // Send a message to notify the kernel that we're ready.\n",
              "        channel.send({})\n",
              "        if (message.buffers) {\n",
              "          for (const buffer of message.buffers) {\n",
              "            buffers.push(buffer);\n",
              "            downloaded += buffer.byteLength;\n",
              "            progress.value = downloaded;\n",
              "          }\n",
              "        }\n",
              "      }\n",
              "      const blob = new Blob(buffers, {type: 'application/binary'});\n",
              "      const a = document.createElement('a');\n",
              "      a.href = window.URL.createObjectURL(blob);\n",
              "      a.download = filename;\n",
              "      div.appendChild(a);\n",
              "      a.click();\n",
              "      div.remove();\n",
              "    }\n",
              "  "
            ]
          },
          "metadata": {}
        },
        {
          "output_type": "display_data",
          "data": {
            "text/plain": [
              "<IPython.core.display.Javascript object>"
            ],
            "application/javascript": [
              "download(\"download_a798b0a6-922a-4a14-8dbe-0ce7467ef2e7\", \"renda_corr.csv\", 5557)"
            ]
          },
          "metadata": {}
        }
      ]
    },
    {
      "cell_type": "code",
      "source": [
        "import pandas as pd\n",
        "from io import StringIO\n",
        "\n",
        "# Dados do arquivo 'TransacoesPorIdade.csv.csv'\n",
        "trans_idade_str = \"\"\"\n",
        "\"DateTime\";\"mais de 60 anos\";\"até 19 anos\";\"entre 50 e 59 anos\";\"entre 40 e 49 anos\";\"entre 20 e 29 anos\";\"entre 30 e 39 anos\"\n",
        "\"2023-09-30\";0,04959;0,036475;0,101869;0,218613;0,286945;0,306508\n",
        "\"2023-10-31\";0,043097;0,058477;0,09384;0,206542;0,2992;0,298845\n",
        "\"\"\"\n",
        "df_trans_idade = pd.read_csv(StringIO(trans_idade_str), sep=';', decimal=',')\n",
        "\n",
        "# Limpeza e preparação dos dados\n",
        "# Remove espaços e aspas dos nomes das colunas\n",
        "df_trans_idade.columns = df_trans_idade.columns.str.strip().str.replace('\"', '')\n",
        "\n",
        "# Filtra a coluna da faixa etária mais vulnerável (\"mais de 60 anos\")\n",
        "df_vulnerabilidade_idade = df_trans_idade[['mais de 60 anos']].copy()\n",
        "\n",
        "# Renomeia a coluna para facilitar a leitura\n",
        "df_vulnerabilidade_idade = df_vulnerabilidade_idade.rename(columns={'mais de 60 anos': 'Participacao_Mais_60_Anos'})\n",
        "\n",
        "# Calcula a média de participação de transações para essa faixa\n",
        "media_vulnerabilidade = df_vulnerabilidade_idade['Participacao_Mais_60_Anos'].mean()\n",
        "\n",
        "# Cria um DataFrame para exportação, unindo a informação com a de escolaridade\n",
        "# (Para este exemplo, o valor é o mesmo para todas as linhas, pois é uma média geral)\n",
        "df_final = pd.DataFrame({\n",
        "    'Id_analise': ['Vulnerabilidade por Idade'],\n",
        "    'Participacao_media': [media_vulnerabilidade]\n",
        "})\n",
        "\n",
        "df_final.to_csv('vulnerabilidade_idade.csv', index=False)\n",
        "\n",
        "print(\"Arquivo 'vulnerabilidade_idade.csv' criado com sucesso!\")\n",
        "print(\"\\nPrimeiras linhas do arquivo gerado:\")\n",
        "print(df_final.head())"
      ],
      "metadata": {
        "colab": {
          "base_uri": "https://localhost:8080/"
        },
        "id": "hNuWEusDq4Kf",
        "outputId": "8835a73c-bb00-4b21-92a7-480b15ad9f73"
      },
      "execution_count": null,
      "outputs": [
        {
          "output_type": "stream",
          "name": "stdout",
          "text": [
            "Arquivo 'vulnerabilidade_idade.csv' criado com sucesso!\n",
            "\n",
            "Primeiras linhas do arquivo gerado:\n",
            "                  Id_analise  Participacao_media\n",
            "0  Vulnerabilidade por Idade            0.046344\n"
          ]
        }
      ]
    },
    {
      "cell_type": "code",
      "source": [
        "import pandas as pd\n",
        "from io import StringIO\n",
        "\n",
        "# Dados do arquivo 'TransacoesPorIdade.csv.csv'\n",
        "trans_idade_str = \"\"\"\n",
        "\"DateTime\";\"mais de 60 anos\";\"até 19 anos\";\"entre 50 e 59 anos\";\"entre 40 e 49 anos\";\"entre 20 e 29 anos\";\"entre 30 e 39 anos\"\n",
        "\"2023-09-30\";0,04959;0,036475;0,101869;0,218613;0,286945;0,306508\n",
        "\"2023-10-31\";0,043097;0,058477;0,09384;0,206542;0,2992;0,298845\n",
        "\"2023-11-30\";0,042492;0,059358;0,093394;0,205866;0,300381;0,298509\n",
        "\"2023-12-31\";0,048172;0,038685;0,101786;0,21819;0,288445;0,304723\n",
        "\"2024-01-31\";0,049294;0,0395;0,10316;0,218753;0,284441;0,304852\n",
        "\"2024-02-29\";0,049294;0,042259;0,103067;0,21803;0,28408;0,30327\n",
        "\"2024-03-31\";0,048891;0,046073;0,102985;0,217475;0,283611;0,300965\n",
        "\"2024-04-30\";0,049182;0,046522;0,102431;0,217319;0,283253;0,301292\n",
        "\"2024-05-31\";0,049078;0,046162;0,102283;0,21703;0,283084;0,302363\n",
        "\"2024-06-30\";0,049615;0,046344;0,102661;0,216668;0,28249;0,302222\n",
        "\"2024-07-31\";0,04879;0,045763;0,101726;0,215688;0,282914;0,30449\n",
        "\"2024-08-31\";0,048721;0,04573;0,101689;0,215809;0,282869;0,303975\n",
        "\"2024-09-30\";0,048684;0,04571;0,10164;0,215777;0,282855;0,304193\n",
        "\"\"\"\n",
        "df_trans_idade = pd.read_csv(StringIO(trans_idade_str), sep=';', decimal=',')\n",
        "\n",
        "# Limpeza e preparação dos dados\n",
        "# Remove espaços e aspas dos nomes das colunas\n",
        "df_trans_idade.columns = df_trans_idade.columns.str.strip().str.replace('\"', '')\n",
        "\n",
        "# Transforma os dados para o formato \"longo\"\n",
        "df_perfil_etario = df_trans_idade.melt(id_vars=['DateTime'], var_name='Faixa_Etaria', value_name='Participacao_Percentual')\n",
        "\n",
        "# Calcula a participação média de cada faixa etária\n",
        "df_perfil_etario_medio = df_perfil_etario.groupby('Faixa_Etaria')['Participacao_Percentual'].mean().reset_index()\n",
        "\n",
        "# Salva o arquivo final\n",
        "df_perfil_etario_medio.to_csv('perfil_etario_medio.csv', index=False)\n",
        "\n",
        "print(\"Arquivo 'perfil_etario_medio.csv' criado com sucesso!\")\n",
        "print(\"\\nPrimeiras linhas do arquivo gerado:\")\n",
        "print(df_perfil_etario_medio.head())"
      ],
      "metadata": {
        "colab": {
          "base_uri": "https://localhost:8080/"
        },
        "id": "-C6Scvvps4iY",
        "outputId": "dca9e01f-4681-4ba0-bfd2-5570eedc05f0"
      },
      "execution_count": null,
      "outputs": [
        {
          "output_type": "stream",
          "name": "stdout",
          "text": [
            "Arquivo 'perfil_etario_medio.csv' criado com sucesso!\n",
            "\n",
            "Primeiras linhas do arquivo gerado:\n",
            "         Faixa_Etaria  Participacao_Percentual\n",
            "0         até 19 anos                 0.045928\n",
            "1  entre 20 e 29 anos                 0.286505\n",
            "2  entre 30 e 39 anos                 0.302785\n",
            "3  entre 40 e 49 anos                 0.215520\n",
            "4  entre 50 e 59 anos                 0.100964\n"
          ]
        }
      ]
    },
    {
      "cell_type": "code",
      "source": [
        "import pandas as pd\n",
        "import numpy as np\n",
        "import os\n",
        "\n",
        "os.makedirs(\"outputs\", exist_ok=True)\n",
        "\n",
        "# 1) Tentar usar natureza_corr.csv (já somando tipos)\n",
        "try:\n",
        "    nat = pd.read_csv(\"natureza_corr.csv\", parse_dates=[\"DateTime\"], dayfirst=False)\n",
        "    # calcula total por linha somando todas as colunas numéricas (exceto DateTime)\n",
        "    num_cols = nat.select_dtypes(include=[np.number]).columns.tolist()\n",
        "    nat[\"total\"] = nat[num_cols].sum(axis=1)\n",
        "    nat[\"date_mes\"] = nat[\"DateTime\"].dt.to_period(\"M\").dt.to_timestamp()  # primeiro dia do mês\n",
        "    trend = nat.groupby(\"date_mes\", as_index=False)[\"total\"].sum().sort_values(\"date_mes\")\n",
        "    source_used = \"natureza_corr.csv\"\n",
        "except Exception as e:\n",
        "    # fallback para transacoes_pix (ajuste o nome da coluna de valor se for diferente)\n",
        "    print(\"Não usei natureza_corr.csv (erro):\", e)\n",
        "    tx = pd.read_csv(\"transacoes_pix.csv\", low_memory=False)\n",
        "    # detectar coluna de data e de valor automaticamente\n",
        "    date_col = None\n",
        "    for c in tx.columns:\n",
        "        if \"date\" in c.lower() or \"data\" in c.lower():\n",
        "            date_col = c\n",
        "            break\n",
        "    value_col = None\n",
        "    for c in tx.columns:\n",
        "        if any(k in c.lower() for k in [\"valor\", \"total\", \"montante\", \"amount\"]):\n",
        "            value_col = c\n",
        "            break\n",
        "    if date_col is None:\n",
        "        raise RuntimeError(\"Não encontrei coluna de data em transacoes_pix.csv\")\n",
        "    if value_col is None:\n",
        "        # assume contagem se não achar valor monetário\n",
        "        tx[\"valor_temp\"] = 1\n",
        "        value_col = \"valor_temp\"\n",
        "    tx[date_col] = pd.to_datetime(tx[date_col], dayfirst=True, errors=\"coerce\")\n",
        "    tx[\"date_mes\"] = tx[date_col].dt.to_period(\"M\").dt.to_timestamp()\n",
        "    tx[value_col] = pd.to_numeric(tx[value_col], errors=\"coerce\").fillna(0)\n",
        "    trend = tx.groupby(\"date_mes\", as_index=False)[value_col].sum().rename(columns={value_col:\"total\"}).sort_values(\"date_mes\")\n",
        "    source_used = \"transacoes_pix.csv\"\n",
        "\n",
        "# 2) Preencher meses ausentes com zero (útil para Looker Studio)\n",
        "trend = trend.set_index(\"date_mes\").asfreq(\"MS\", fill_value=0).reset_index()\n",
        "\n",
        "# 3) Calcular médias móveis (opcional) — 3 e 12 meses\n",
        "trend[\"ma_3m\"] = trend[\"total\"].rolling(window=3, min_periods=1).mean()\n",
        "trend[\"ma_12m\"] = trend[\"total\"].rolling(window=12, min_periods=1).mean()\n",
        "\n",
        "# 4) Salvar CSV para importar no Looker Studio\n",
        "out_path = \"outputs/07_tendencia_temporal.csv\"\n",
        "trend.to_csv(out_path, index=False, date_format=\"%Y-%m-%d\")\n",
        "print(\"Salvo:\", out_path, \"| fonte usada:\", source_used)\n",
        "print(trend.head(12))\n"
      ],
      "metadata": {
        "colab": {
          "base_uri": "https://localhost:8080/"
        },
        "id": "LQNhSzn-Ea1B",
        "outputId": "1e0dfcda-e17e-4efe-e16b-10dcb35360b8"
      },
      "execution_count": null,
      "outputs": [
        {
          "output_type": "stream",
          "name": "stdout",
          "text": [
            "Não usei natureza_corr.csv (erro): [Errno 2] No such file or directory: 'natureza_corr.csv'\n",
            "Salvo: outputs/07_tendencia_temporal.csv | fonte usada: transacoes_pix.csv\n",
            "    date_mes  total  ma_3m  ma_12m\n",
            "0 1970-01-01    902  902.0   902.0\n"
          ]
        }
      ]
    },
    {
      "cell_type": "code",
      "source": [
        "import pandas as pd\n",
        "\n",
        "tx = pd.read_csv(\"transacoes_pix.csv\", low_memory=False)\n",
        "print(tx.head())\n",
        "print(tx.columns)\n"
      ],
      "metadata": {
        "colab": {
          "base_uri": "https://localhost:8080/"
        },
        "id": "rYYb9LpkEj_T",
        "outputId": "7596b286-cdca-4207-96c7-4319456a8596"
      },
      "execution_count": null,
      "outputs": [
        {
          "output_type": "stream",
          "name": "stdout",
          "text": [
            "                                         DateTime;\"Valor Fora do SPI\";\"Valor SPI\";\"Total\"\n",
            "2023-09-30;250699 95;1277205 13;1527905                                               8.0\n",
            "2023-10-31;272415 33;1380506 54;1652921                                              87.0\n",
            "2023-11-30;305307 53;1422089 6;1727397                                               13.0\n",
            "2023-12-31;319708 39;1600127 61;1919836                                               NaN\n",
            "2024-01-31;321175 42;1483207 5;1804382                                               92.0\n",
            "Index(['DateTime;\"Valor Fora do SPI\";\"Valor SPI\";\"Total\"'], dtype='object')\n"
          ]
        }
      ]
    },
    {
      "cell_type": "code",
      "source": [
        "tx = pd.read_csv(\"transacoes_pix.csv\", sep=\";\")\n",
        "print(tx.head())\n",
        "print(tx.columns)\n"
      ],
      "metadata": {
        "colab": {
          "base_uri": "https://localhost:8080/"
        },
        "id": "bBTxGwdGEt6i",
        "outputId": "b1975fe1-91b3-43fa-d605-1db568e97730"
      },
      "execution_count": null,
      "outputs": [
        {
          "output_type": "stream",
          "name": "stdout",
          "text": [
            "     DateTime Valor Fora do SPI   Valor SPI       Total\n",
            "0  2023-09-30         250699,95  1277205,13  1527905,08\n",
            "1  2023-10-31         272415,33  1380506,54  1652921,87\n",
            "2  2023-11-30         305307,53   1422089,6  1727397,13\n",
            "3  2023-12-31         319708,39  1600127,61     1919836\n",
            "4  2024-01-31         321175,42   1483207,5  1804382,92\n",
            "Index(['DateTime', 'Valor Fora do SPI', 'Valor SPI', 'Total'], dtype='object')\n"
          ]
        }
      ]
    },
    {
      "cell_type": "code",
      "source": [
        "['DateTime', 'Valor Fora do SPI', 'Valor SPI', 'Total']\n"
      ],
      "metadata": {
        "colab": {
          "base_uri": "https://localhost:8080/"
        },
        "id": "67y8gnn-Ewta",
        "outputId": "ca422b24-0a1b-41b1-8e95-4490a7330162"
      },
      "execution_count": null,
      "outputs": [
        {
          "output_type": "execute_result",
          "data": {
            "text/plain": [
              "['DateTime', 'Valor Fora do SPI', 'Valor SPI', 'Total']"
            ]
          },
          "metadata": {},
          "execution_count": 6
        }
      ]
    },
    {
      "cell_type": "code",
      "source": [
        "# Converter a data\n",
        "tx['DateTime'] = pd.to_datetime(tx['DateTime'], errors='coerce')\n",
        "\n",
        "# Agregar por mês\n",
        "trend = tx.groupby(tx['DateTime'].dt.to_period(\"M\")).agg({\n",
        "    'Total':'sum'\n",
        "}).reset_index()\n",
        "\n",
        "# Ajusta para timestamp de início do mês\n",
        "trend['DateTime'] = trend['DateTime'].dt.to_timestamp()\n",
        "\n",
        "# Médias móveis\n",
        "trend['ma_3m'] = trend['Total'].rolling(window=3, min_periods=1).mean()\n",
        "trend['ma_12m'] = trend['Total'].rolling(window=12, min_periods=1).mean()\n",
        "\n",
        "# Salvar\n",
        "trend.to_csv(\"outputs/07_tendencia_temporal.csv\", index=False, date_format=\"%Y-%m-%d\")\n",
        "print(trend.head())\n"
      ],
      "metadata": {
        "colab": {
          "base_uri": "https://localhost:8080/",
          "height": 529
        },
        "id": "GdQ69oXLEzHm",
        "outputId": "2439e154-5584-4b6e-db73-758eed4efc5a"
      },
      "execution_count": null,
      "outputs": [
        {
          "output_type": "error",
          "ename": "DataError",
          "evalue": "No numeric types to aggregate",
          "traceback": [
            "\u001b[0;31m---------------------------------------------------------------------------\u001b[0m",
            "\u001b[0;31mValueError\u001b[0m                                Traceback (most recent call last)",
            "\u001b[0;32m/usr/local/lib/python3.12/dist-packages/pandas/core/window/rolling.py\u001b[0m in \u001b[0;36m_prep_values\u001b[0;34m(self, values)\u001b[0m\n\u001b[1;32m    370\u001b[0m             \u001b[0;32melse\u001b[0m\u001b[0;34m:\u001b[0m\u001b[0;34m\u001b[0m\u001b[0;34m\u001b[0m\u001b[0m\n\u001b[0;32m--> 371\u001b[0;31m                 \u001b[0mvalues\u001b[0m \u001b[0;34m=\u001b[0m \u001b[0mensure_float64\u001b[0m\u001b[0;34m(\u001b[0m\u001b[0mvalues\u001b[0m\u001b[0;34m)\u001b[0m\u001b[0;34m\u001b[0m\u001b[0;34m\u001b[0m\u001b[0m\n\u001b[0m\u001b[1;32m    372\u001b[0m         \u001b[0;32mexcept\u001b[0m \u001b[0;34m(\u001b[0m\u001b[0mValueError\u001b[0m\u001b[0;34m,\u001b[0m \u001b[0mTypeError\u001b[0m\u001b[0;34m)\u001b[0m \u001b[0;32mas\u001b[0m \u001b[0merr\u001b[0m\u001b[0;34m:\u001b[0m\u001b[0;34m\u001b[0m\u001b[0;34m\u001b[0m\u001b[0m\n",
            "\u001b[0;32mpandas/_libs/algos_common_helper.pxi\u001b[0m in \u001b[0;36mpandas._libs.algos.ensure_float64\u001b[0;34m()\u001b[0m\n",
            "\u001b[0;31mValueError\u001b[0m: could not convert string to float: '1527905,08'",
            "\nThe above exception was the direct cause of the following exception:\n",
            "\u001b[0;31mTypeError\u001b[0m                                 Traceback (most recent call last)",
            "\u001b[0;32m/usr/local/lib/python3.12/dist-packages/pandas/core/window/rolling.py\u001b[0m in \u001b[0;36m_apply_series\u001b[0;34m(self, homogeneous_func, name)\u001b[0m\n\u001b[1;32m    451\u001b[0m         \u001b[0;32mtry\u001b[0m\u001b[0;34m:\u001b[0m\u001b[0;34m\u001b[0m\u001b[0;34m\u001b[0m\u001b[0m\n\u001b[0;32m--> 452\u001b[0;31m             \u001b[0mvalues\u001b[0m \u001b[0;34m=\u001b[0m \u001b[0mself\u001b[0m\u001b[0;34m.\u001b[0m\u001b[0m_prep_values\u001b[0m\u001b[0;34m(\u001b[0m\u001b[0mobj\u001b[0m\u001b[0;34m.\u001b[0m\u001b[0m_values\u001b[0m\u001b[0;34m)\u001b[0m\u001b[0;34m\u001b[0m\u001b[0;34m\u001b[0m\u001b[0m\n\u001b[0m\u001b[1;32m    453\u001b[0m         \u001b[0;32mexcept\u001b[0m \u001b[0;34m(\u001b[0m\u001b[0mTypeError\u001b[0m\u001b[0;34m,\u001b[0m \u001b[0mNotImplementedError\u001b[0m\u001b[0;34m)\u001b[0m \u001b[0;32mas\u001b[0m \u001b[0merr\u001b[0m\u001b[0;34m:\u001b[0m\u001b[0;34m\u001b[0m\u001b[0;34m\u001b[0m\u001b[0m\n",
            "\u001b[0;32m/usr/local/lib/python3.12/dist-packages/pandas/core/window/rolling.py\u001b[0m in \u001b[0;36m_prep_values\u001b[0;34m(self, values)\u001b[0m\n\u001b[1;32m    372\u001b[0m         \u001b[0;32mexcept\u001b[0m \u001b[0;34m(\u001b[0m\u001b[0mValueError\u001b[0m\u001b[0;34m,\u001b[0m \u001b[0mTypeError\u001b[0m\u001b[0;34m)\u001b[0m \u001b[0;32mas\u001b[0m \u001b[0merr\u001b[0m\u001b[0;34m:\u001b[0m\u001b[0;34m\u001b[0m\u001b[0;34m\u001b[0m\u001b[0m\n\u001b[0;32m--> 373\u001b[0;31m             \u001b[0;32mraise\u001b[0m \u001b[0mTypeError\u001b[0m\u001b[0;34m(\u001b[0m\u001b[0;34mf\"cannot handle this type -> {values.dtype}\"\u001b[0m\u001b[0;34m)\u001b[0m \u001b[0;32mfrom\u001b[0m \u001b[0merr\u001b[0m\u001b[0;34m\u001b[0m\u001b[0;34m\u001b[0m\u001b[0m\n\u001b[0m\u001b[1;32m    374\u001b[0m \u001b[0;34m\u001b[0m\u001b[0m\n",
            "\u001b[0;31mTypeError\u001b[0m: cannot handle this type -> object",
            "\nThe above exception was the direct cause of the following exception:\n",
            "\u001b[0;31mDataError\u001b[0m                                 Traceback (most recent call last)",
            "\u001b[0;32m/tmp/ipython-input-3079579683.py\u001b[0m in \u001b[0;36m<cell line: 0>\u001b[0;34m()\u001b[0m\n\u001b[1;32m     11\u001b[0m \u001b[0;34m\u001b[0m\u001b[0m\n\u001b[1;32m     12\u001b[0m \u001b[0;31m# Médias móveis\u001b[0m\u001b[0;34m\u001b[0m\u001b[0;34m\u001b[0m\u001b[0m\n\u001b[0;32m---> 13\u001b[0;31m \u001b[0mtrend\u001b[0m\u001b[0;34m[\u001b[0m\u001b[0;34m'ma_3m'\u001b[0m\u001b[0;34m]\u001b[0m \u001b[0;34m=\u001b[0m \u001b[0mtrend\u001b[0m\u001b[0;34m[\u001b[0m\u001b[0;34m'Total'\u001b[0m\u001b[0;34m]\u001b[0m\u001b[0;34m.\u001b[0m\u001b[0mrolling\u001b[0m\u001b[0;34m(\u001b[0m\u001b[0mwindow\u001b[0m\u001b[0;34m=\u001b[0m\u001b[0;36m3\u001b[0m\u001b[0;34m,\u001b[0m \u001b[0mmin_periods\u001b[0m\u001b[0;34m=\u001b[0m\u001b[0;36m1\u001b[0m\u001b[0;34m)\u001b[0m\u001b[0;34m.\u001b[0m\u001b[0mmean\u001b[0m\u001b[0;34m(\u001b[0m\u001b[0;34m)\u001b[0m\u001b[0;34m\u001b[0m\u001b[0;34m\u001b[0m\u001b[0m\n\u001b[0m\u001b[1;32m     14\u001b[0m \u001b[0mtrend\u001b[0m\u001b[0;34m[\u001b[0m\u001b[0;34m'ma_12m'\u001b[0m\u001b[0;34m]\u001b[0m \u001b[0;34m=\u001b[0m \u001b[0mtrend\u001b[0m\u001b[0;34m[\u001b[0m\u001b[0;34m'Total'\u001b[0m\u001b[0;34m]\u001b[0m\u001b[0;34m.\u001b[0m\u001b[0mrolling\u001b[0m\u001b[0;34m(\u001b[0m\u001b[0mwindow\u001b[0m\u001b[0;34m=\u001b[0m\u001b[0;36m12\u001b[0m\u001b[0;34m,\u001b[0m \u001b[0mmin_periods\u001b[0m\u001b[0;34m=\u001b[0m\u001b[0;36m1\u001b[0m\u001b[0;34m)\u001b[0m\u001b[0;34m.\u001b[0m\u001b[0mmean\u001b[0m\u001b[0;34m(\u001b[0m\u001b[0;34m)\u001b[0m\u001b[0;34m\u001b[0m\u001b[0;34m\u001b[0m\u001b[0m\n\u001b[1;32m     15\u001b[0m \u001b[0;34m\u001b[0m\u001b[0m\n",
            "\u001b[0;32m/usr/local/lib/python3.12/dist-packages/pandas/core/window/rolling.py\u001b[0m in \u001b[0;36mmean\u001b[0;34m(self, numeric_only, engine, engine_kwargs)\u001b[0m\n\u001b[1;32m   2257\u001b[0m         \u001b[0mengine_kwargs\u001b[0m\u001b[0;34m:\u001b[0m \u001b[0mdict\u001b[0m\u001b[0;34m[\u001b[0m\u001b[0mstr\u001b[0m\u001b[0;34m,\u001b[0m \u001b[0mbool\u001b[0m\u001b[0;34m]\u001b[0m \u001b[0;34m|\u001b[0m \u001b[0;32mNone\u001b[0m \u001b[0;34m=\u001b[0m \u001b[0;32mNone\u001b[0m\u001b[0;34m,\u001b[0m\u001b[0;34m\u001b[0m\u001b[0;34m\u001b[0m\u001b[0m\n\u001b[1;32m   2258\u001b[0m     ):\n\u001b[0;32m-> 2259\u001b[0;31m         return super().mean(\n\u001b[0m\u001b[1;32m   2260\u001b[0m             \u001b[0mnumeric_only\u001b[0m\u001b[0;34m=\u001b[0m\u001b[0mnumeric_only\u001b[0m\u001b[0;34m,\u001b[0m\u001b[0;34m\u001b[0m\u001b[0;34m\u001b[0m\u001b[0m\n\u001b[1;32m   2261\u001b[0m             \u001b[0mengine\u001b[0m\u001b[0;34m=\u001b[0m\u001b[0mengine\u001b[0m\u001b[0;34m,\u001b[0m\u001b[0;34m\u001b[0m\u001b[0;34m\u001b[0m\u001b[0m\n",
            "\u001b[0;32m/usr/local/lib/python3.12/dist-packages/pandas/core/window/rolling.py\u001b[0m in \u001b[0;36mmean\u001b[0;34m(self, numeric_only, engine, engine_kwargs)\u001b[0m\n\u001b[1;32m   1623\u001b[0m                 \u001b[0;32mreturn\u001b[0m \u001b[0mself\u001b[0m\u001b[0;34m.\u001b[0m\u001b[0m_numba_apply\u001b[0m\u001b[0;34m(\u001b[0m\u001b[0msliding_mean\u001b[0m\u001b[0;34m,\u001b[0m \u001b[0mengine_kwargs\u001b[0m\u001b[0;34m)\u001b[0m\u001b[0;34m\u001b[0m\u001b[0;34m\u001b[0m\u001b[0m\n\u001b[1;32m   1624\u001b[0m         \u001b[0mwindow_func\u001b[0m \u001b[0;34m=\u001b[0m \u001b[0mwindow_aggregations\u001b[0m\u001b[0;34m.\u001b[0m\u001b[0mroll_mean\u001b[0m\u001b[0;34m\u001b[0m\u001b[0;34m\u001b[0m\u001b[0m\n\u001b[0;32m-> 1625\u001b[0;31m         \u001b[0;32mreturn\u001b[0m \u001b[0mself\u001b[0m\u001b[0;34m.\u001b[0m\u001b[0m_apply\u001b[0m\u001b[0;34m(\u001b[0m\u001b[0mwindow_func\u001b[0m\u001b[0;34m,\u001b[0m \u001b[0mname\u001b[0m\u001b[0;34m=\u001b[0m\u001b[0;34m\"mean\"\u001b[0m\u001b[0;34m,\u001b[0m \u001b[0mnumeric_only\u001b[0m\u001b[0;34m=\u001b[0m\u001b[0mnumeric_only\u001b[0m\u001b[0;34m)\u001b[0m\u001b[0;34m\u001b[0m\u001b[0;34m\u001b[0m\u001b[0m\n\u001b[0m\u001b[1;32m   1626\u001b[0m \u001b[0;34m\u001b[0m\u001b[0m\n\u001b[1;32m   1627\u001b[0m     def median(\n",
            "\u001b[0;32m/usr/local/lib/python3.12/dist-packages/pandas/core/window/rolling.py\u001b[0m in \u001b[0;36m_apply\u001b[0;34m(self, func, name, numeric_only, numba_args, **kwargs)\u001b[0m\n\u001b[1;32m    617\u001b[0m \u001b[0;34m\u001b[0m\u001b[0m\n\u001b[1;32m    618\u001b[0m         \u001b[0;32mif\u001b[0m \u001b[0mself\u001b[0m\u001b[0;34m.\u001b[0m\u001b[0mmethod\u001b[0m \u001b[0;34m==\u001b[0m \u001b[0;34m\"single\"\u001b[0m\u001b[0;34m:\u001b[0m\u001b[0;34m\u001b[0m\u001b[0;34m\u001b[0m\u001b[0m\n\u001b[0;32m--> 619\u001b[0;31m             \u001b[0;32mreturn\u001b[0m \u001b[0mself\u001b[0m\u001b[0;34m.\u001b[0m\u001b[0m_apply_columnwise\u001b[0m\u001b[0;34m(\u001b[0m\u001b[0mhomogeneous_func\u001b[0m\u001b[0;34m,\u001b[0m \u001b[0mname\u001b[0m\u001b[0;34m,\u001b[0m \u001b[0mnumeric_only\u001b[0m\u001b[0;34m)\u001b[0m\u001b[0;34m\u001b[0m\u001b[0;34m\u001b[0m\u001b[0m\n\u001b[0m\u001b[1;32m    620\u001b[0m         \u001b[0;32melse\u001b[0m\u001b[0;34m:\u001b[0m\u001b[0;34m\u001b[0m\u001b[0;34m\u001b[0m\u001b[0m\n\u001b[1;32m    621\u001b[0m             \u001b[0;32mreturn\u001b[0m \u001b[0mself\u001b[0m\u001b[0;34m.\u001b[0m\u001b[0m_apply_tablewise\u001b[0m\u001b[0;34m(\u001b[0m\u001b[0mhomogeneous_func\u001b[0m\u001b[0;34m,\u001b[0m \u001b[0mname\u001b[0m\u001b[0;34m,\u001b[0m \u001b[0mnumeric_only\u001b[0m\u001b[0;34m)\u001b[0m\u001b[0;34m\u001b[0m\u001b[0;34m\u001b[0m\u001b[0m\n",
            "\u001b[0;32m/usr/local/lib/python3.12/dist-packages/pandas/core/window/rolling.py\u001b[0m in \u001b[0;36m_apply_columnwise\u001b[0;34m(self, homogeneous_func, name, numeric_only)\u001b[0m\n\u001b[1;32m    470\u001b[0m         \u001b[0mself\u001b[0m\u001b[0;34m.\u001b[0m\u001b[0m_validate_numeric_only\u001b[0m\u001b[0;34m(\u001b[0m\u001b[0mname\u001b[0m\u001b[0;34m,\u001b[0m \u001b[0mnumeric_only\u001b[0m\u001b[0;34m)\u001b[0m\u001b[0;34m\u001b[0m\u001b[0;34m\u001b[0m\u001b[0m\n\u001b[1;32m    471\u001b[0m         \u001b[0;32mif\u001b[0m \u001b[0mself\u001b[0m\u001b[0;34m.\u001b[0m\u001b[0m_selected_obj\u001b[0m\u001b[0;34m.\u001b[0m\u001b[0mndim\u001b[0m \u001b[0;34m==\u001b[0m \u001b[0;36m1\u001b[0m\u001b[0;34m:\u001b[0m\u001b[0;34m\u001b[0m\u001b[0;34m\u001b[0m\u001b[0m\n\u001b[0;32m--> 472\u001b[0;31m             \u001b[0;32mreturn\u001b[0m \u001b[0mself\u001b[0m\u001b[0;34m.\u001b[0m\u001b[0m_apply_series\u001b[0m\u001b[0;34m(\u001b[0m\u001b[0mhomogeneous_func\u001b[0m\u001b[0;34m,\u001b[0m \u001b[0mname\u001b[0m\u001b[0;34m)\u001b[0m\u001b[0;34m\u001b[0m\u001b[0;34m\u001b[0m\u001b[0m\n\u001b[0m\u001b[1;32m    473\u001b[0m \u001b[0;34m\u001b[0m\u001b[0m\n\u001b[1;32m    474\u001b[0m         \u001b[0mobj\u001b[0m \u001b[0;34m=\u001b[0m \u001b[0mself\u001b[0m\u001b[0;34m.\u001b[0m\u001b[0m_create_data\u001b[0m\u001b[0;34m(\u001b[0m\u001b[0mself\u001b[0m\u001b[0;34m.\u001b[0m\u001b[0m_selected_obj\u001b[0m\u001b[0;34m,\u001b[0m \u001b[0mnumeric_only\u001b[0m\u001b[0;34m)\u001b[0m\u001b[0;34m\u001b[0m\u001b[0;34m\u001b[0m\u001b[0m\n",
            "\u001b[0;32m/usr/local/lib/python3.12/dist-packages/pandas/core/window/rolling.py\u001b[0m in \u001b[0;36m_apply_series\u001b[0;34m(self, homogeneous_func, name)\u001b[0m\n\u001b[1;32m    452\u001b[0m             \u001b[0mvalues\u001b[0m \u001b[0;34m=\u001b[0m \u001b[0mself\u001b[0m\u001b[0;34m.\u001b[0m\u001b[0m_prep_values\u001b[0m\u001b[0;34m(\u001b[0m\u001b[0mobj\u001b[0m\u001b[0;34m.\u001b[0m\u001b[0m_values\u001b[0m\u001b[0;34m)\u001b[0m\u001b[0;34m\u001b[0m\u001b[0;34m\u001b[0m\u001b[0m\n\u001b[1;32m    453\u001b[0m         \u001b[0;32mexcept\u001b[0m \u001b[0;34m(\u001b[0m\u001b[0mTypeError\u001b[0m\u001b[0;34m,\u001b[0m \u001b[0mNotImplementedError\u001b[0m\u001b[0;34m)\u001b[0m \u001b[0;32mas\u001b[0m \u001b[0merr\u001b[0m\u001b[0;34m:\u001b[0m\u001b[0;34m\u001b[0m\u001b[0;34m\u001b[0m\u001b[0m\n\u001b[0;32m--> 454\u001b[0;31m             \u001b[0;32mraise\u001b[0m \u001b[0mDataError\u001b[0m\u001b[0;34m(\u001b[0m\u001b[0;34m\"No numeric types to aggregate\"\u001b[0m\u001b[0;34m)\u001b[0m \u001b[0;32mfrom\u001b[0m \u001b[0merr\u001b[0m\u001b[0;34m\u001b[0m\u001b[0;34m\u001b[0m\u001b[0m\n\u001b[0m\u001b[1;32m    455\u001b[0m \u001b[0;34m\u001b[0m\u001b[0m\n\u001b[1;32m    456\u001b[0m         \u001b[0mresult\u001b[0m \u001b[0;34m=\u001b[0m \u001b[0mhomogeneous_func\u001b[0m\u001b[0;34m(\u001b[0m\u001b[0mvalues\u001b[0m\u001b[0;34m)\u001b[0m\u001b[0;34m\u001b[0m\u001b[0;34m\u001b[0m\u001b[0m\n",
            "\u001b[0;31mDataError\u001b[0m: No numeric types to aggregate"
          ]
        }
      ]
    },
    {
      "cell_type": "code",
      "source": [
        "tx = pd.read_csv(\"transacoes_pix.csv\", sep=\";\", decimal=\",\")\n",
        "print(tx.dtypes)\n",
        "print(tx.head())\n"
      ],
      "metadata": {
        "colab": {
          "base_uri": "https://localhost:8080/"
        },
        "id": "vi-P4rMGE7MX",
        "outputId": "bccc0cbd-4206-4e6e-a0b7-7c41521229d3"
      },
      "execution_count": null,
      "outputs": [
        {
          "output_type": "stream",
          "name": "stdout",
          "text": [
            "DateTime              object\n",
            "Valor Fora do SPI    float64\n",
            "Valor SPI            float64\n",
            "Total                float64\n",
            "dtype: object\n",
            "     DateTime  Valor Fora do SPI   Valor SPI       Total\n",
            "0  2023-09-30          250699.95  1277205.13  1527905.08\n",
            "1  2023-10-31          272415.33  1380506.54  1652921.87\n",
            "2  2023-11-30          305307.53  1422089.60  1727397.13\n",
            "3  2023-12-31          319708.39  1600127.61  1919836.00\n",
            "4  2024-01-31          321175.42  1483207.50  1804382.92\n"
          ]
        }
      ]
    },
    {
      "cell_type": "code",
      "source": [
        "# Converter a data\n",
        "tx['DateTime'] = pd.to_datetime(tx['DateTime'], errors='coerce')\n",
        "\n",
        "# Garante que \"Total\" é numérico\n",
        "tx['Total'] = pd.to_numeric(tx['Total'], errors='coerce')\n",
        "\n",
        "# Agregar por mês\n",
        "trend = tx.groupby(tx['DateTime'].dt.to_period(\"M\")).agg({\n",
        "    'Total':'sum'\n",
        "}).reset_index()\n",
        "\n",
        "# Ajusta para timestamp de início do mês\n",
        "trend['DateTime'] = trend['DateTime'].dt.to_timestamp()\n",
        "\n",
        "# Médias móveis\n",
        "trend['ma_3m'] = trend['Total'].rolling(window=3, min_periods=1).mean()\n",
        "trend['ma_12m'] = trend['Total'].rolling(window=12, min_periods=1).mean()\n",
        "\n",
        "# Salvar\n",
        "trend.to_csv(\"outputs/07_tendencia_temporal.csv\", index=False, date_format=\"%Y-%m-%d\")\n",
        "print(trend.head())\n"
      ],
      "metadata": {
        "colab": {
          "base_uri": "https://localhost:8080/"
        },
        "id": "bhJ2Z7LTE85D",
        "outputId": "5fa4de7d-1b7a-4634-9215-740dc8181a96"
      },
      "execution_count": null,
      "outputs": [
        {
          "output_type": "stream",
          "name": "stdout",
          "text": [
            "    DateTime       Total         ma_3m        ma_12m\n",
            "0 2023-09-01  1527905.08  1.527905e+06  1.527905e+06\n",
            "1 2023-10-01  1652921.87  1.590413e+06  1.590413e+06\n",
            "2 2023-11-01  1727397.13  1.636075e+06  1.636075e+06\n",
            "3 2023-12-01  1919836.00  1.766718e+06  1.707015e+06\n",
            "4 2024-01-01  1804382.92  1.817205e+06  1.726489e+06\n"
          ]
        }
      ]
    },
    {
      "cell_type": "code",
      "source": [
        "# Salvar em outputs\n",
        "output_path = \"outputs/07_tendencia_temporal.csv\"\n",
        "df_total.to_csv(output_path, index=False, encoding=\"utf-8\")\n",
        "\n",
        "print(f\"Arquivo salvo em: {output_path}\")\n"
      ],
      "metadata": {
        "colab": {
          "base_uri": "https://localhost:8080/",
          "height": 211
        },
        "id": "a9Stqf2QFOIi",
        "outputId": "20112bd0-e535-4a9b-cc63-aa4de103c693"
      },
      "execution_count": null,
      "outputs": [
        {
          "output_type": "error",
          "ename": "NameError",
          "evalue": "name 'df_total' is not defined",
          "traceback": [
            "\u001b[0;31m---------------------------------------------------------------------------\u001b[0m",
            "\u001b[0;31mNameError\u001b[0m                                 Traceback (most recent call last)",
            "\u001b[0;32m/tmp/ipython-input-440247384.py\u001b[0m in \u001b[0;36m<cell line: 0>\u001b[0;34m()\u001b[0m\n\u001b[1;32m      1\u001b[0m \u001b[0;31m# Salvar em outputs\u001b[0m\u001b[0;34m\u001b[0m\u001b[0;34m\u001b[0m\u001b[0m\n\u001b[1;32m      2\u001b[0m \u001b[0moutput_path\u001b[0m \u001b[0;34m=\u001b[0m \u001b[0;34m\"outputs/07_tendencia_temporal.csv\"\u001b[0m\u001b[0;34m\u001b[0m\u001b[0;34m\u001b[0m\u001b[0m\n\u001b[0;32m----> 3\u001b[0;31m \u001b[0mdf_total\u001b[0m\u001b[0;34m.\u001b[0m\u001b[0mto_csv\u001b[0m\u001b[0;34m(\u001b[0m\u001b[0moutput_path\u001b[0m\u001b[0;34m,\u001b[0m \u001b[0mindex\u001b[0m\u001b[0;34m=\u001b[0m\u001b[0;32mFalse\u001b[0m\u001b[0;34m,\u001b[0m \u001b[0mencoding\u001b[0m\u001b[0;34m=\u001b[0m\u001b[0;34m\"utf-8\"\u001b[0m\u001b[0;34m)\u001b[0m\u001b[0;34m\u001b[0m\u001b[0;34m\u001b[0m\u001b[0m\n\u001b[0m\u001b[1;32m      4\u001b[0m \u001b[0;34m\u001b[0m\u001b[0m\n\u001b[1;32m      5\u001b[0m \u001b[0mprint\u001b[0m\u001b[0;34m(\u001b[0m\u001b[0;34mf\"Arquivo salvo em: {output_path}\"\u001b[0m\u001b[0;34m)\u001b[0m\u001b[0;34m\u001b[0m\u001b[0;34m\u001b[0m\u001b[0m\n",
            "\u001b[0;31mNameError\u001b[0m: name 'df_total' is not defined"
          ]
        }
      ]
    },
    {
      "cell_type": "code",
      "source": [
        "import pandas as pd\n",
        "from google.colab import files\n",
        "\n",
        "# === 1. Ler o arquivo original ===\n",
        "df_raw = pd.read_csv(\"transacoes_pix.csv\", sep=\";\", encoding=\"utf-8\")\n",
        "\n",
        "# Ajustar nomes das colunas (remover aspas)\n",
        "df_raw.columns = [c.replace('\"', '').strip() for c in df_raw.columns]\n",
        "\n",
        "# === 2. Converter colunas ===\n",
        "df_raw['DateTime'] = pd.to_datetime(df_raw['DateTime'], errors='coerce')\n",
        "df_raw['Total'] = pd.to_numeric(\n",
        "    df_raw['Total'].astype(str).str.replace(\",\", \".\", regex=False),\n",
        "    errors=\"coerce\"\n",
        ")\n",
        "\n",
        "# === 3. Criar tendência temporal ===\n",
        "df_total = df_raw[['DateTime', 'Total']].copy()\n",
        "df_total = df_total.sort_values('DateTime')\n",
        "df_total['ma_3m'] = df_total['Total'].rolling(window=3, min_periods=1).mean()\n",
        "df_total['ma_12m'] = df_total['Total'].rolling(window=12, min_periods=1).mean()\n",
        "\n",
        "# === 4. Salvar CSV ===\n",
        "output_path = \"outputs/07_tendencia_temporal.csv\"\n",
        "df_total.to_csv(output_path, index=False, encoding=\"utf-8\")\n",
        "\n",
        "# Mostrar preview\n",
        "print(df_total.head())\n",
        "\n",
        "# === 5. Baixar ===\n",
        "files.download(output_path)\n"
      ],
      "metadata": {
        "id": "zmwS6OBhFVXX",
        "outputId": "8a2f4b87-0873-4495-838f-8806f88d2e1e",
        "colab": {
          "base_uri": "https://localhost:8080/",
          "height": 121
        }
      },
      "execution_count": null,
      "outputs": [
        {
          "output_type": "stream",
          "name": "stdout",
          "text": [
            "    DateTime       Total         ma_3m        ma_12m\n",
            "0 2023-09-30  1527905.08  1.527905e+06  1.527905e+06\n",
            "1 2023-10-31  1652921.87  1.590413e+06  1.590413e+06\n",
            "2 2023-11-30  1727397.13  1.636075e+06  1.636075e+06\n",
            "3 2023-12-31  1919836.00  1.766718e+06  1.707015e+06\n",
            "4 2024-01-31  1804382.92  1.817205e+06  1.726489e+06\n"
          ]
        },
        {
          "output_type": "display_data",
          "data": {
            "text/plain": [
              "<IPython.core.display.Javascript object>"
            ],
            "application/javascript": [
              "\n",
              "    async function download(id, filename, size) {\n",
              "      if (!google.colab.kernel.accessAllowed) {\n",
              "        return;\n",
              "      }\n",
              "      const div = document.createElement('div');\n",
              "      const label = document.createElement('label');\n",
              "      label.textContent = `Downloading \"${filename}\": `;\n",
              "      div.appendChild(label);\n",
              "      const progress = document.createElement('progress');\n",
              "      progress.max = size;\n",
              "      div.appendChild(progress);\n",
              "      document.body.appendChild(div);\n",
              "\n",
              "      const buffers = [];\n",
              "      let downloaded = 0;\n",
              "\n",
              "      const channel = await google.colab.kernel.comms.open(id);\n",
              "      // Send a message to notify the kernel that we're ready.\n",
              "      channel.send({})\n",
              "\n",
              "      for await (const message of channel.messages) {\n",
              "        // Send a message to notify the kernel that we're ready.\n",
              "        channel.send({})\n",
              "        if (message.buffers) {\n",
              "          for (const buffer of message.buffers) {\n",
              "            buffers.push(buffer);\n",
              "            downloaded += buffer.byteLength;\n",
              "            progress.value = downloaded;\n",
              "          }\n",
              "        }\n",
              "      }\n",
              "      const blob = new Blob(buffers, {type: 'application/binary'});\n",
              "      const a = document.createElement('a');\n",
              "      a.href = window.URL.createObjectURL(blob);\n",
              "      a.download = filename;\n",
              "      div.appendChild(a);\n",
              "      a.click();\n",
              "      div.remove();\n",
              "    }\n",
              "  "
            ]
          },
          "metadata": {}
        },
        {
          "output_type": "display_data",
          "data": {
            "text/plain": [
              "<IPython.core.display.Javascript object>"
            ],
            "application/javascript": [
              "download(\"download_33f752a4-b017-41ce-82d0-a1865b290e3a\", \"07_tendencia_temporal.csv\", 1339)"
            ]
          },
          "metadata": {}
        }
      ]
    },
    {
      "cell_type": "code",
      "source": [
        "# 1) Cria o conteúdo do CSV e salva em outputs/\n",
        "csv_text = \"\"\"DateTime,Total_Fraudes,Fraudes_Contestadas,Fraudes_Recuperadas,Taxa_Contestacao_%,Taxa_Recuperacao_%\n",
        "2023-01-31,1200,800,500,66.67,41.67\n",
        "2023-02-28,1350,900,600,66.67,44.44\n",
        "2023-03-31,1280,850,580,66.41,45.31\n",
        "2023-04-30,1400,1000,700,71.43,50.00\n",
        "2023-05-31,1500,1100,750,73.33,50.00\n",
        "2023-06-30,1600,1200,800,75.00,50.00\n",
        "2023-07-31,1700,1250,850,73.53,50.00\n",
        "2023-08-31,1650,1230,820,74.55,49.70\n",
        "2023-09-30,1750,1300,870,74.29,49.71\n",
        "2023-10-31,1800,1350,900,75.00,50.00\n",
        "2023-11-30,1900,1400,950,73.68,50.00\n",
        "2023-12-31,2000,1500,1000,75.00,50.00\n",
        "\"\"\"\n",
        "\n",
        "# salva no Colab\n",
        "import os\n",
        "os.makedirs(\"outputs\", exist_ok=True)\n",
        "with open(\"outputs/09_taxa_recuperacao_contestacao.csv\", \"w\", encoding=\"utf-8\") as f:\n",
        "    f.write(csv_text)\n",
        "\n",
        "# fazer o download (execute no Colab)\n",
        "from google.colab import files\n",
        "files.download(\"outputs/09_taxa_recuperacao_contestacao.csv\")\n"
      ],
      "metadata": {
        "colab": {
          "base_uri": "https://localhost:8080/",
          "height": 17
        },
        "id": "w_Vqi92IKdYl",
        "outputId": "54864a3f-3e4c-4740-beae-9c46c4e89b01"
      },
      "execution_count": 1,
      "outputs": [
        {
          "output_type": "display_data",
          "data": {
            "text/plain": [
              "<IPython.core.display.Javascript object>"
            ],
            "application/javascript": [
              "\n",
              "    async function download(id, filename, size) {\n",
              "      if (!google.colab.kernel.accessAllowed) {\n",
              "        return;\n",
              "      }\n",
              "      const div = document.createElement('div');\n",
              "      const label = document.createElement('label');\n",
              "      label.textContent = `Downloading \"${filename}\": `;\n",
              "      div.appendChild(label);\n",
              "      const progress = document.createElement('progress');\n",
              "      progress.max = size;\n",
              "      div.appendChild(progress);\n",
              "      document.body.appendChild(div);\n",
              "\n",
              "      const buffers = [];\n",
              "      let downloaded = 0;\n",
              "\n",
              "      const channel = await google.colab.kernel.comms.open(id);\n",
              "      // Send a message to notify the kernel that we're ready.\n",
              "      channel.send({})\n",
              "\n",
              "      for await (const message of channel.messages) {\n",
              "        // Send a message to notify the kernel that we're ready.\n",
              "        channel.send({})\n",
              "        if (message.buffers) {\n",
              "          for (const buffer of message.buffers) {\n",
              "            buffers.push(buffer);\n",
              "            downloaded += buffer.byteLength;\n",
              "            progress.value = downloaded;\n",
              "          }\n",
              "        }\n",
              "      }\n",
              "      const blob = new Blob(buffers, {type: 'application/binary'});\n",
              "      const a = document.createElement('a');\n",
              "      a.href = window.URL.createObjectURL(blob);\n",
              "      a.download = filename;\n",
              "      div.appendChild(a);\n",
              "      a.click();\n",
              "      div.remove();\n",
              "    }\n",
              "  "
            ]
          },
          "metadata": {}
        },
        {
          "output_type": "display_data",
          "data": {
            "text/plain": [
              "<IPython.core.display.Javascript object>"
            ],
            "application/javascript": [
              "download(\"download_382bd4d0-5086-4a4a-95ef-5e5387f2c046\", \"09_taxa_recuperacao_contestacao.csv\", 543)"
            ]
          },
          "metadata": {}
        }
      ]
    },
    {
      "cell_type": "code",
      "source": [
        "csv_text = \"\"\"... (mesmo texto acima) ...\"\"\"\n",
        "with open(\"09_taxa_recuperacao_contestacao.csv\", \"w\", encoding=\"utf-8\") as f:\n",
        "    f.write(csv_text)\n"
      ],
      "metadata": {
        "id": "KysM6CfaKfiZ"
      },
      "execution_count": 2,
      "outputs": []
    },
    {
      "cell_type": "code",
      "source": [
        "# 1) Cria o conteúdo do CSV e salva em outputs/\n",
        "csv_text = \"\"\"DateTime,Total_Fraudes,Fraudes_Contestadas,Fraudes_Recuperadas,Taxa_Contestacao_%,Taxa_Recuperacao_%\n",
        "2023-01-31,1200,800,500,66.67,41.67\n",
        "2023-02-28,1350,900,600,66.67,44.44\n",
        "2023-03-31,1280,850,580,66.41,45.31\n",
        "2023-04-30,1400,1000,700,71.43,50.00\n",
        "2023-05-31,1500,1100,750,73.33,50.00\n",
        "2023-06-30,1600,1200,800,75.00,50.00\n",
        "2023-07-31,1700,1250,850,73.53,50.00\n",
        "2023-08-31,1650,1230,820,74.55,49.70\n",
        "2023-09-30,1750,1300,870,74.29,49.71\n",
        "2023-10-31,1800,1350,900,75.00,50.00\n",
        "2023-11-30,1900,1400,950,73.68,50.00\n",
        "2023-12-31,2000,1500,1000,75.00,50.00\n",
        "\"\"\"\n",
        "\n",
        "# salva no Colab\n",
        "import os\n",
        "os.makedirs(\"outputs\", exist_ok=True)\n",
        "with open(\"outputs/09_taxa_recuperacao_contestacao.csv\", \"w\", encoding=\"utf-8\") as f:\n",
        "    f.write(csv_text)\n",
        "\n",
        "# fazer o download (execute no Colab)\n",
        "from google.colab import files\n",
        "files.download(\"outputs/09_taxa_recuperacao_contestacao.csv\")\n",
        "\n"
      ],
      "metadata": {
        "colab": {
          "base_uri": "https://localhost:8080/",
          "height": 17
        },
        "id": "Gel-4d9EK1e1",
        "outputId": "5894004a-8fde-400a-e991-81ab7a964520"
      },
      "execution_count": 3,
      "outputs": [
        {
          "output_type": "display_data",
          "data": {
            "text/plain": [
              "<IPython.core.display.Javascript object>"
            ],
            "application/javascript": [
              "\n",
              "    async function download(id, filename, size) {\n",
              "      if (!google.colab.kernel.accessAllowed) {\n",
              "        return;\n",
              "      }\n",
              "      const div = document.createElement('div');\n",
              "      const label = document.createElement('label');\n",
              "      label.textContent = `Downloading \"${filename}\": `;\n",
              "      div.appendChild(label);\n",
              "      const progress = document.createElement('progress');\n",
              "      progress.max = size;\n",
              "      div.appendChild(progress);\n",
              "      document.body.appendChild(div);\n",
              "\n",
              "      const buffers = [];\n",
              "      let downloaded = 0;\n",
              "\n",
              "      const channel = await google.colab.kernel.comms.open(id);\n",
              "      // Send a message to notify the kernel that we're ready.\n",
              "      channel.send({})\n",
              "\n",
              "      for await (const message of channel.messages) {\n",
              "        // Send a message to notify the kernel that we're ready.\n",
              "        channel.send({})\n",
              "        if (message.buffers) {\n",
              "          for (const buffer of message.buffers) {\n",
              "            buffers.push(buffer);\n",
              "            downloaded += buffer.byteLength;\n",
              "            progress.value = downloaded;\n",
              "          }\n",
              "        }\n",
              "      }\n",
              "      const blob = new Blob(buffers, {type: 'application/binary'});\n",
              "      const a = document.createElement('a');\n",
              "      a.href = window.URL.createObjectURL(blob);\n",
              "      a.download = filename;\n",
              "      div.appendChild(a);\n",
              "      a.click();\n",
              "      div.remove();\n",
              "    }\n",
              "  "
            ]
          },
          "metadata": {}
        },
        {
          "output_type": "display_data",
          "data": {
            "text/plain": [
              "<IPython.core.display.Javascript object>"
            ],
            "application/javascript": [
              "download(\"download_0cf779d5-1ebe-4a6e-a0b2-819b819ead27\", \"09_taxa_recuperacao_contestacao.csv\", 543)"
            ]
          },
          "metadata": {}
        }
      ]
    },
    {
      "cell_type": "code",
      "source": [
        "import pandas as pd\n",
        "from google.colab import files\n",
        "\n",
        "# Dados simulados de segmentação de risco\n",
        "data = {\n",
        "    \"Cluster_ID\": [1,2,3,4,5,6,7,8],\n",
        "    \"Faixa_Etaria\": [\n",
        "        \"até 19 anos\",\"20-29 anos\",\"30-39 anos\",\"40-49 anos\",\n",
        "        \"50-59 anos\",\"mais de 60 anos\",\"20-29 anos\",\"30-39 anos\"\n",
        "    ],\n",
        "    \"Escolaridade\": [\n",
        "        \"Fundamental\",\"Médio\",\"Superior\",\"Médio\",\n",
        "        \"Fundamental\",\"Fundamental\",\"Superior\",\"Pós\"\n",
        "    ],\n",
        "    \"Faixa_Renda\": [\n",
        "        \"até 2 SM\",\"2-5 SM\",\"acima de 5 SM\",\"até 2 SM\",\n",
        "        \"até 2 SM\",\"até 2 SM\",\"2-5 SM\",\"acima de 5 SM\"\n",
        "    ],\n",
        "    \"Regiao\": [\n",
        "        \"Nordeste\",\"Sudeste\",\"Sul\",\"Norte\",\n",
        "        \"Centro-Oeste\",\"Nordeste\",\"Sudeste\",\"Sul\"\n",
        "    ],\n",
        "    \"Qtd_Fraudes\": [450,320,150,280,200,500,180,120],\n",
        "    \"Indice_Vulnerabilidade\": [85,70,40,65,75,90,50,30]\n",
        "}\n",
        "\n",
        "# Criar DataFrame\n",
        "df_clusters = pd.DataFrame(data)\n",
        "\n",
        "# Salvar em CSV\n",
        "output_path = \"10_segmentacao_risco.csv\"\n",
        "df_clusters.to_csv(output_path, index=False, encoding=\"utf-8\")\n",
        "\n",
        "# Fazer download automático\n",
        "files.download(output_path)\n",
        "\n",
        "df_clusters\n"
      ],
      "metadata": {
        "colab": {
          "base_uri": "https://localhost:8080/",
          "height": 300
        },
        "id": "gXQum6e7MOjC",
        "outputId": "354b2583-6d09-4f56-a8e9-b1384fc11e65"
      },
      "execution_count": 4,
      "outputs": [
        {
          "output_type": "display_data",
          "data": {
            "text/plain": [
              "<IPython.core.display.Javascript object>"
            ],
            "application/javascript": [
              "\n",
              "    async function download(id, filename, size) {\n",
              "      if (!google.colab.kernel.accessAllowed) {\n",
              "        return;\n",
              "      }\n",
              "      const div = document.createElement('div');\n",
              "      const label = document.createElement('label');\n",
              "      label.textContent = `Downloading \"${filename}\": `;\n",
              "      div.appendChild(label);\n",
              "      const progress = document.createElement('progress');\n",
              "      progress.max = size;\n",
              "      div.appendChild(progress);\n",
              "      document.body.appendChild(div);\n",
              "\n",
              "      const buffers = [];\n",
              "      let downloaded = 0;\n",
              "\n",
              "      const channel = await google.colab.kernel.comms.open(id);\n",
              "      // Send a message to notify the kernel that we're ready.\n",
              "      channel.send({})\n",
              "\n",
              "      for await (const message of channel.messages) {\n",
              "        // Send a message to notify the kernel that we're ready.\n",
              "        channel.send({})\n",
              "        if (message.buffers) {\n",
              "          for (const buffer of message.buffers) {\n",
              "            buffers.push(buffer);\n",
              "            downloaded += buffer.byteLength;\n",
              "            progress.value = downloaded;\n",
              "          }\n",
              "        }\n",
              "      }\n",
              "      const blob = new Blob(buffers, {type: 'application/binary'});\n",
              "      const a = document.createElement('a');\n",
              "      a.href = window.URL.createObjectURL(blob);\n",
              "      a.download = filename;\n",
              "      div.appendChild(a);\n",
              "      a.click();\n",
              "      div.remove();\n",
              "    }\n",
              "  "
            ]
          },
          "metadata": {}
        },
        {
          "output_type": "display_data",
          "data": {
            "text/plain": [
              "<IPython.core.display.Javascript object>"
            ],
            "application/javascript": [
              "download(\"download_df0fa78d-5663-4bf8-918f-7d690c520f2a\", \"10_segmentacao_risco.csv\", 474)"
            ]
          },
          "metadata": {}
        },
        {
          "output_type": "execute_result",
          "data": {
            "text/plain": [
              "   Cluster_ID     Faixa_Etaria Escolaridade    Faixa_Renda        Regiao  \\\n",
              "0           1      até 19 anos  Fundamental       até 2 SM      Nordeste   \n",
              "1           2       20-29 anos        Médio         2-5 SM       Sudeste   \n",
              "2           3       30-39 anos     Superior  acima de 5 SM           Sul   \n",
              "3           4       40-49 anos        Médio       até 2 SM         Norte   \n",
              "4           5       50-59 anos  Fundamental       até 2 SM  Centro-Oeste   \n",
              "5           6  mais de 60 anos  Fundamental       até 2 SM      Nordeste   \n",
              "6           7       20-29 anos     Superior         2-5 SM       Sudeste   \n",
              "7           8       30-39 anos          Pós  acima de 5 SM           Sul   \n",
              "\n",
              "   Qtd_Fraudes  Indice_Vulnerabilidade  \n",
              "0          450                      85  \n",
              "1          320                      70  \n",
              "2          150                      40  \n",
              "3          280                      65  \n",
              "4          200                      75  \n",
              "5          500                      90  \n",
              "6          180                      50  \n",
              "7          120                      30  "
            ],
            "text/html": [
              "\n",
              "  <div id=\"df-db9d6abe-c459-467c-845d-e9a7537d996b\" class=\"colab-df-container\">\n",
              "    <div>\n",
              "<style scoped>\n",
              "    .dataframe tbody tr th:only-of-type {\n",
              "        vertical-align: middle;\n",
              "    }\n",
              "\n",
              "    .dataframe tbody tr th {\n",
              "        vertical-align: top;\n",
              "    }\n",
              "\n",
              "    .dataframe thead th {\n",
              "        text-align: right;\n",
              "    }\n",
              "</style>\n",
              "<table border=\"1\" class=\"dataframe\">\n",
              "  <thead>\n",
              "    <tr style=\"text-align: right;\">\n",
              "      <th></th>\n",
              "      <th>Cluster_ID</th>\n",
              "      <th>Faixa_Etaria</th>\n",
              "      <th>Escolaridade</th>\n",
              "      <th>Faixa_Renda</th>\n",
              "      <th>Regiao</th>\n",
              "      <th>Qtd_Fraudes</th>\n",
              "      <th>Indice_Vulnerabilidade</th>\n",
              "    </tr>\n",
              "  </thead>\n",
              "  <tbody>\n",
              "    <tr>\n",
              "      <th>0</th>\n",
              "      <td>1</td>\n",
              "      <td>até 19 anos</td>\n",
              "      <td>Fundamental</td>\n",
              "      <td>até 2 SM</td>\n",
              "      <td>Nordeste</td>\n",
              "      <td>450</td>\n",
              "      <td>85</td>\n",
              "    </tr>\n",
              "    <tr>\n",
              "      <th>1</th>\n",
              "      <td>2</td>\n",
              "      <td>20-29 anos</td>\n",
              "      <td>Médio</td>\n",
              "      <td>2-5 SM</td>\n",
              "      <td>Sudeste</td>\n",
              "      <td>320</td>\n",
              "      <td>70</td>\n",
              "    </tr>\n",
              "    <tr>\n",
              "      <th>2</th>\n",
              "      <td>3</td>\n",
              "      <td>30-39 anos</td>\n",
              "      <td>Superior</td>\n",
              "      <td>acima de 5 SM</td>\n",
              "      <td>Sul</td>\n",
              "      <td>150</td>\n",
              "      <td>40</td>\n",
              "    </tr>\n",
              "    <tr>\n",
              "      <th>3</th>\n",
              "      <td>4</td>\n",
              "      <td>40-49 anos</td>\n",
              "      <td>Médio</td>\n",
              "      <td>até 2 SM</td>\n",
              "      <td>Norte</td>\n",
              "      <td>280</td>\n",
              "      <td>65</td>\n",
              "    </tr>\n",
              "    <tr>\n",
              "      <th>4</th>\n",
              "      <td>5</td>\n",
              "      <td>50-59 anos</td>\n",
              "      <td>Fundamental</td>\n",
              "      <td>até 2 SM</td>\n",
              "      <td>Centro-Oeste</td>\n",
              "      <td>200</td>\n",
              "      <td>75</td>\n",
              "    </tr>\n",
              "    <tr>\n",
              "      <th>5</th>\n",
              "      <td>6</td>\n",
              "      <td>mais de 60 anos</td>\n",
              "      <td>Fundamental</td>\n",
              "      <td>até 2 SM</td>\n",
              "      <td>Nordeste</td>\n",
              "      <td>500</td>\n",
              "      <td>90</td>\n",
              "    </tr>\n",
              "    <tr>\n",
              "      <th>6</th>\n",
              "      <td>7</td>\n",
              "      <td>20-29 anos</td>\n",
              "      <td>Superior</td>\n",
              "      <td>2-5 SM</td>\n",
              "      <td>Sudeste</td>\n",
              "      <td>180</td>\n",
              "      <td>50</td>\n",
              "    </tr>\n",
              "    <tr>\n",
              "      <th>7</th>\n",
              "      <td>8</td>\n",
              "      <td>30-39 anos</td>\n",
              "      <td>Pós</td>\n",
              "      <td>acima de 5 SM</td>\n",
              "      <td>Sul</td>\n",
              "      <td>120</td>\n",
              "      <td>30</td>\n",
              "    </tr>\n",
              "  </tbody>\n",
              "</table>\n",
              "</div>\n",
              "    <div class=\"colab-df-buttons\">\n",
              "\n",
              "  <div class=\"colab-df-container\">\n",
              "    <button class=\"colab-df-convert\" onclick=\"convertToInteractive('df-db9d6abe-c459-467c-845d-e9a7537d996b')\"\n",
              "            title=\"Convert this dataframe to an interactive table.\"\n",
              "            style=\"display:none;\">\n",
              "\n",
              "  <svg xmlns=\"http://www.w3.org/2000/svg\" height=\"24px\" viewBox=\"0 -960 960 960\">\n",
              "    <path d=\"M120-120v-720h720v720H120Zm60-500h600v-160H180v160Zm220 220h160v-160H400v160Zm0 220h160v-160H400v160ZM180-400h160v-160H180v160Zm440 0h160v-160H620v160ZM180-180h160v-160H180v160Zm440 0h160v-160H620v160Z\"/>\n",
              "  </svg>\n",
              "    </button>\n",
              "\n",
              "  <style>\n",
              "    .colab-df-container {\n",
              "      display:flex;\n",
              "      gap: 12px;\n",
              "    }\n",
              "\n",
              "    .colab-df-convert {\n",
              "      background-color: #E8F0FE;\n",
              "      border: none;\n",
              "      border-radius: 50%;\n",
              "      cursor: pointer;\n",
              "      display: none;\n",
              "      fill: #1967D2;\n",
              "      height: 32px;\n",
              "      padding: 0 0 0 0;\n",
              "      width: 32px;\n",
              "    }\n",
              "\n",
              "    .colab-df-convert:hover {\n",
              "      background-color: #E2EBFA;\n",
              "      box-shadow: 0px 1px 2px rgba(60, 64, 67, 0.3), 0px 1px 3px 1px rgba(60, 64, 67, 0.15);\n",
              "      fill: #174EA6;\n",
              "    }\n",
              "\n",
              "    .colab-df-buttons div {\n",
              "      margin-bottom: 4px;\n",
              "    }\n",
              "\n",
              "    [theme=dark] .colab-df-convert {\n",
              "      background-color: #3B4455;\n",
              "      fill: #D2E3FC;\n",
              "    }\n",
              "\n",
              "    [theme=dark] .colab-df-convert:hover {\n",
              "      background-color: #434B5C;\n",
              "      box-shadow: 0px 1px 3px 1px rgba(0, 0, 0, 0.15);\n",
              "      filter: drop-shadow(0px 1px 2px rgba(0, 0, 0, 0.3));\n",
              "      fill: #FFFFFF;\n",
              "    }\n",
              "  </style>\n",
              "\n",
              "    <script>\n",
              "      const buttonEl =\n",
              "        document.querySelector('#df-db9d6abe-c459-467c-845d-e9a7537d996b button.colab-df-convert');\n",
              "      buttonEl.style.display =\n",
              "        google.colab.kernel.accessAllowed ? 'block' : 'none';\n",
              "\n",
              "      async function convertToInteractive(key) {\n",
              "        const element = document.querySelector('#df-db9d6abe-c459-467c-845d-e9a7537d996b');\n",
              "        const dataTable =\n",
              "          await google.colab.kernel.invokeFunction('convertToInteractive',\n",
              "                                                    [key], {});\n",
              "        if (!dataTable) return;\n",
              "\n",
              "        const docLinkHtml = 'Like what you see? Visit the ' +\n",
              "          '<a target=\"_blank\" href=https://colab.research.google.com/notebooks/data_table.ipynb>data table notebook</a>'\n",
              "          + ' to learn more about interactive tables.';\n",
              "        element.innerHTML = '';\n",
              "        dataTable['output_type'] = 'display_data';\n",
              "        await google.colab.output.renderOutput(dataTable, element);\n",
              "        const docLink = document.createElement('div');\n",
              "        docLink.innerHTML = docLinkHtml;\n",
              "        element.appendChild(docLink);\n",
              "      }\n",
              "    </script>\n",
              "  </div>\n",
              "\n",
              "\n",
              "    <div id=\"df-7b0c8c64-b105-46ef-8629-6a9ccfd5fa39\">\n",
              "      <button class=\"colab-df-quickchart\" onclick=\"quickchart('df-7b0c8c64-b105-46ef-8629-6a9ccfd5fa39')\"\n",
              "                title=\"Suggest charts\"\n",
              "                style=\"display:none;\">\n",
              "\n",
              "<svg xmlns=\"http://www.w3.org/2000/svg\" height=\"24px\"viewBox=\"0 0 24 24\"\n",
              "     width=\"24px\">\n",
              "    <g>\n",
              "        <path d=\"M19 3H5c-1.1 0-2 .9-2 2v14c0 1.1.9 2 2 2h14c1.1 0 2-.9 2-2V5c0-1.1-.9-2-2-2zM9 17H7v-7h2v7zm4 0h-2V7h2v10zm4 0h-2v-4h2v4z\"/>\n",
              "    </g>\n",
              "</svg>\n",
              "      </button>\n",
              "\n",
              "<style>\n",
              "  .colab-df-quickchart {\n",
              "      --bg-color: #E8F0FE;\n",
              "      --fill-color: #1967D2;\n",
              "      --hover-bg-color: #E2EBFA;\n",
              "      --hover-fill-color: #174EA6;\n",
              "      --disabled-fill-color: #AAA;\n",
              "      --disabled-bg-color: #DDD;\n",
              "  }\n",
              "\n",
              "  [theme=dark] .colab-df-quickchart {\n",
              "      --bg-color: #3B4455;\n",
              "      --fill-color: #D2E3FC;\n",
              "      --hover-bg-color: #434B5C;\n",
              "      --hover-fill-color: #FFFFFF;\n",
              "      --disabled-bg-color: #3B4455;\n",
              "      --disabled-fill-color: #666;\n",
              "  }\n",
              "\n",
              "  .colab-df-quickchart {\n",
              "    background-color: var(--bg-color);\n",
              "    border: none;\n",
              "    border-radius: 50%;\n",
              "    cursor: pointer;\n",
              "    display: none;\n",
              "    fill: var(--fill-color);\n",
              "    height: 32px;\n",
              "    padding: 0;\n",
              "    width: 32px;\n",
              "  }\n",
              "\n",
              "  .colab-df-quickchart:hover {\n",
              "    background-color: var(--hover-bg-color);\n",
              "    box-shadow: 0 1px 2px rgba(60, 64, 67, 0.3), 0 1px 3px 1px rgba(60, 64, 67, 0.15);\n",
              "    fill: var(--button-hover-fill-color);\n",
              "  }\n",
              "\n",
              "  .colab-df-quickchart-complete:disabled,\n",
              "  .colab-df-quickchart-complete:disabled:hover {\n",
              "    background-color: var(--disabled-bg-color);\n",
              "    fill: var(--disabled-fill-color);\n",
              "    box-shadow: none;\n",
              "  }\n",
              "\n",
              "  .colab-df-spinner {\n",
              "    border: 2px solid var(--fill-color);\n",
              "    border-color: transparent;\n",
              "    border-bottom-color: var(--fill-color);\n",
              "    animation:\n",
              "      spin 1s steps(1) infinite;\n",
              "  }\n",
              "\n",
              "  @keyframes spin {\n",
              "    0% {\n",
              "      border-color: transparent;\n",
              "      border-bottom-color: var(--fill-color);\n",
              "      border-left-color: var(--fill-color);\n",
              "    }\n",
              "    20% {\n",
              "      border-color: transparent;\n",
              "      border-left-color: var(--fill-color);\n",
              "      border-top-color: var(--fill-color);\n",
              "    }\n",
              "    30% {\n",
              "      border-color: transparent;\n",
              "      border-left-color: var(--fill-color);\n",
              "      border-top-color: var(--fill-color);\n",
              "      border-right-color: var(--fill-color);\n",
              "    }\n",
              "    40% {\n",
              "      border-color: transparent;\n",
              "      border-right-color: var(--fill-color);\n",
              "      border-top-color: var(--fill-color);\n",
              "    }\n",
              "    60% {\n",
              "      border-color: transparent;\n",
              "      border-right-color: var(--fill-color);\n",
              "    }\n",
              "    80% {\n",
              "      border-color: transparent;\n",
              "      border-right-color: var(--fill-color);\n",
              "      border-bottom-color: var(--fill-color);\n",
              "    }\n",
              "    90% {\n",
              "      border-color: transparent;\n",
              "      border-bottom-color: var(--fill-color);\n",
              "    }\n",
              "  }\n",
              "</style>\n",
              "\n",
              "      <script>\n",
              "        async function quickchart(key) {\n",
              "          const quickchartButtonEl =\n",
              "            document.querySelector('#' + key + ' button');\n",
              "          quickchartButtonEl.disabled = true;  // To prevent multiple clicks.\n",
              "          quickchartButtonEl.classList.add('colab-df-spinner');\n",
              "          try {\n",
              "            const charts = await google.colab.kernel.invokeFunction(\n",
              "                'suggestCharts', [key], {});\n",
              "          } catch (error) {\n",
              "            console.error('Error during call to suggestCharts:', error);\n",
              "          }\n",
              "          quickchartButtonEl.classList.remove('colab-df-spinner');\n",
              "          quickchartButtonEl.classList.add('colab-df-quickchart-complete');\n",
              "        }\n",
              "        (() => {\n",
              "          let quickchartButtonEl =\n",
              "            document.querySelector('#df-7b0c8c64-b105-46ef-8629-6a9ccfd5fa39 button');\n",
              "          quickchartButtonEl.style.display =\n",
              "            google.colab.kernel.accessAllowed ? 'block' : 'none';\n",
              "        })();\n",
              "      </script>\n",
              "    </div>\n",
              "\n",
              "  <div id=\"id_9ef2b866-6dd1-43cb-a845-f93c88ee38d2\">\n",
              "    <style>\n",
              "      .colab-df-generate {\n",
              "        background-color: #E8F0FE;\n",
              "        border: none;\n",
              "        border-radius: 50%;\n",
              "        cursor: pointer;\n",
              "        display: none;\n",
              "        fill: #1967D2;\n",
              "        height: 32px;\n",
              "        padding: 0 0 0 0;\n",
              "        width: 32px;\n",
              "      }\n",
              "\n",
              "      .colab-df-generate:hover {\n",
              "        background-color: #E2EBFA;\n",
              "        box-shadow: 0px 1px 2px rgba(60, 64, 67, 0.3), 0px 1px 3px 1px rgba(60, 64, 67, 0.15);\n",
              "        fill: #174EA6;\n",
              "      }\n",
              "\n",
              "      [theme=dark] .colab-df-generate {\n",
              "        background-color: #3B4455;\n",
              "        fill: #D2E3FC;\n",
              "      }\n",
              "\n",
              "      [theme=dark] .colab-df-generate:hover {\n",
              "        background-color: #434B5C;\n",
              "        box-shadow: 0px 1px 3px 1px rgba(0, 0, 0, 0.15);\n",
              "        filter: drop-shadow(0px 1px 2px rgba(0, 0, 0, 0.3));\n",
              "        fill: #FFFFFF;\n",
              "      }\n",
              "    </style>\n",
              "    <button class=\"colab-df-generate\" onclick=\"generateWithVariable('df_clusters')\"\n",
              "            title=\"Generate code using this dataframe.\"\n",
              "            style=\"display:none;\">\n",
              "\n",
              "  <svg xmlns=\"http://www.w3.org/2000/svg\" height=\"24px\"viewBox=\"0 0 24 24\"\n",
              "       width=\"24px\">\n",
              "    <path d=\"M7,19H8.4L18.45,9,17,7.55,7,17.6ZM5,21V16.75L18.45,3.32a2,2,0,0,1,2.83,0l1.4,1.43a1.91,1.91,0,0,1,.58,1.4,1.91,1.91,0,0,1-.58,1.4L9.25,21ZM18.45,9,17,7.55Zm-12,3A5.31,5.31,0,0,0,4.9,8.1,5.31,5.31,0,0,0,1,6.5,5.31,5.31,0,0,0,4.9,4.9,5.31,5.31,0,0,0,6.5,1,5.31,5.31,0,0,0,8.1,4.9,5.31,5.31,0,0,0,12,6.5,5.46,5.46,0,0,0,6.5,12Z\"/>\n",
              "  </svg>\n",
              "    </button>\n",
              "    <script>\n",
              "      (() => {\n",
              "      const buttonEl =\n",
              "        document.querySelector('#id_9ef2b866-6dd1-43cb-a845-f93c88ee38d2 button.colab-df-generate');\n",
              "      buttonEl.style.display =\n",
              "        google.colab.kernel.accessAllowed ? 'block' : 'none';\n",
              "\n",
              "      buttonEl.onclick = () => {\n",
              "        google.colab.notebook.generateWithVariable('df_clusters');\n",
              "      }\n",
              "      })();\n",
              "    </script>\n",
              "  </div>\n",
              "\n",
              "    </div>\n",
              "  </div>\n"
            ],
            "application/vnd.google.colaboratory.intrinsic+json": {
              "type": "dataframe",
              "variable_name": "df_clusters",
              "summary": "{\n  \"name\": \"df_clusters\",\n  \"rows\": 8,\n  \"fields\": [\n    {\n      \"column\": \"Cluster_ID\",\n      \"properties\": {\n        \"dtype\": \"number\",\n        \"std\": 2,\n        \"min\": 1,\n        \"max\": 8,\n        \"num_unique_values\": 8,\n        \"samples\": [\n          2,\n          6,\n          1\n        ],\n        \"semantic_type\": \"\",\n        \"description\": \"\"\n      }\n    },\n    {\n      \"column\": \"Faixa_Etaria\",\n      \"properties\": {\n        \"dtype\": \"string\",\n        \"num_unique_values\": 6,\n        \"samples\": [\n          \"at\\u00e9 19 anos\",\n          \"20-29 anos\",\n          \"mais de 60 anos\"\n        ],\n        \"semantic_type\": \"\",\n        \"description\": \"\"\n      }\n    },\n    {\n      \"column\": \"Escolaridade\",\n      \"properties\": {\n        \"dtype\": \"string\",\n        \"num_unique_values\": 4,\n        \"samples\": [\n          \"M\\u00e9dio\",\n          \"P\\u00f3s\",\n          \"Fundamental\"\n        ],\n        \"semantic_type\": \"\",\n        \"description\": \"\"\n      }\n    },\n    {\n      \"column\": \"Faixa_Renda\",\n      \"properties\": {\n        \"dtype\": \"category\",\n        \"num_unique_values\": 3,\n        \"samples\": [\n          \"at\\u00e9 2 SM\",\n          \"2-5 SM\",\n          \"acima de 5 SM\"\n        ],\n        \"semantic_type\": \"\",\n        \"description\": \"\"\n      }\n    },\n    {\n      \"column\": \"Regiao\",\n      \"properties\": {\n        \"dtype\": \"string\",\n        \"num_unique_values\": 5,\n        \"samples\": [\n          \"Sudeste\",\n          \"Centro-Oeste\",\n          \"Sul\"\n        ],\n        \"semantic_type\": \"\",\n        \"description\": \"\"\n      }\n    },\n    {\n      \"column\": \"Qtd_Fraudes\",\n      \"properties\": {\n        \"dtype\": \"number\",\n        \"std\": 140,\n        \"min\": 120,\n        \"max\": 500,\n        \"num_unique_values\": 8,\n        \"samples\": [\n          320,\n          500,\n          450\n        ],\n        \"semantic_type\": \"\",\n        \"description\": \"\"\n      }\n    },\n    {\n      \"column\": \"Indice_Vulnerabilidade\",\n      \"properties\": {\n        \"dtype\": \"number\",\n        \"std\": 21,\n        \"min\": 30,\n        \"max\": 90,\n        \"num_unique_values\": 8,\n        \"samples\": [\n          70,\n          90,\n          85\n        ],\n        \"semantic_type\": \"\",\n        \"description\": \"\"\n      }\n    }\n  ]\n}"
            }
          },
          "metadata": {},
          "execution_count": 4
        }
      ]
    },
    {
      "cell_type": "code",
      "source": [
        "import pandas as pd\n",
        "import os\n",
        "\n",
        "# === 1) Simulação dos dados de fraude ===\n",
        "dados = {\n",
        "    \"DateTime\": [\n",
        "        \"2023-01-31\",\"2023-02-28\",\"2023-03-31\",\"2023-04-30\",\n",
        "        \"2023-05-31\",\"2023-06-30\",\"2023-07-31\",\"2023-08-31\",\n",
        "        \"2023-09-30\",\"2023-10-31\",\"2023-11-30\",\"2023-12-31\"\n",
        "    ],\n",
        "    \"Total_Fraudes\": [1200,1350,1280,1400,1500,1600,1700,1650,1750,1800,1900,2000],\n",
        "    \"Fraudes_Contestadas\": [800,900,850,1000,1100,1200,1250,1230,1300,1350,1400,1500],\n",
        "    \"Fraudes_Recuperadas\": [500,600,580,700,750,800,850,820,870,900,950,1000]\n",
        "}\n",
        "\n",
        "df = pd.DataFrame(dados)\n",
        "\n",
        "# === 2) Criar coluna simulada de TOTAL PIX ===\n",
        "# Vamos supor que o volume total de Pix cresce 2% ao mês a partir de 10 milhões\n",
        "df[\"Total_Pix\"] = [10_000_000 * (1.02 ** i) for i in range(len(df))]\n",
        "\n",
        "# === 3) Calcular métricas adicionais ===\n",
        "df[\"Taxa_Contestacao_%\"] = (df[\"Fraudes_Contestadas\"] / df[\"Total_Fraudes\"] * 100).round(2)\n",
        "df[\"Taxa_Recuperacao_%\"] = (df[\"Fraudes_Recuperadas\"] / df[\"Total_Fraudes\"] * 100).round(2)\n",
        "df[\"%Fraudes_sobre_Pix\"] = (df[\"Total_Fraudes\"] / df[\"Total_Pix\"] * 100).round(4)\n",
        "df[\"%Recuperadas_sobre_Pix\"] = (df[\"Fraudes_Recuperadas\"] / df[\"Total_Pix\"] * 100).round(4)\n",
        "\n",
        "# === 4) Salvar em CSV ===\n",
        "os.makedirs(\"outputs\", exist_ok=True)\n",
        "output_path = \"outputs/09_taxa_recuperacao_expandida.csv\"\n",
        "df.to_csv(output_path, index=False, encoding=\"utf-8\")\n",
        "\n",
        "print(f\"✅ Arquivo salvo em: {output_path}\")\n",
        "print(df.head())\n"
      ],
      "metadata": {
        "colab": {
          "base_uri": "https://localhost:8080/"
        },
        "id": "gz1c9QAfN6l8",
        "outputId": "ebde7bd0-e1a1-403d-dcb9-6f3f8a34c2ad"
      },
      "execution_count": 5,
      "outputs": [
        {
          "output_type": "stream",
          "name": "stdout",
          "text": [
            "✅ Arquivo salvo em: outputs/09_taxa_recuperacao_expandida.csv\n",
            "     DateTime  Total_Fraudes  Fraudes_Contestadas  Fraudes_Recuperadas  \\\n",
            "0  2023-01-31           1200                  800                  500   \n",
            "1  2023-02-28           1350                  900                  600   \n",
            "2  2023-03-31           1280                  850                  580   \n",
            "3  2023-04-30           1400                 1000                  700   \n",
            "4  2023-05-31           1500                 1100                  750   \n",
            "\n",
            "    Total_Pix  Taxa_Contestacao_%  Taxa_Recuperacao_%  %Fraudes_sobre_Pix  \\\n",
            "0  10000000.0               66.67               41.67              0.0120   \n",
            "1  10200000.0               66.67               44.44              0.0132   \n",
            "2  10404000.0               66.41               45.31              0.0123   \n",
            "3  10612080.0               71.43               50.00              0.0132   \n",
            "4  10824321.6               73.33               50.00              0.0139   \n",
            "\n",
            "   %Recuperadas_sobre_Pix  \n",
            "0                  0.0050  \n",
            "1                  0.0059  \n",
            "2                  0.0056  \n",
            "3                  0.0066  \n",
            "4                  0.0069  \n"
          ]
        }
      ]
    },
    {
      "cell_type": "code",
      "source": [
        "from google.colab import files\n",
        "\n",
        "files.download(\"outputs/09_taxa_recuperacao_expandida.csv\")\n"
      ],
      "metadata": {
        "colab": {
          "base_uri": "https://localhost:8080/",
          "height": 17
        },
        "id": "kkVqGYS9OFiH",
        "outputId": "f9b764ef-feca-40c3-8021-9eb94c97a20b"
      },
      "execution_count": 6,
      "outputs": [
        {
          "output_type": "display_data",
          "data": {
            "text/plain": [
              "<IPython.core.display.Javascript object>"
            ],
            "application/javascript": [
              "\n",
              "    async function download(id, filename, size) {\n",
              "      if (!google.colab.kernel.accessAllowed) {\n",
              "        return;\n",
              "      }\n",
              "      const div = document.createElement('div');\n",
              "      const label = document.createElement('label');\n",
              "      label.textContent = `Downloading \"${filename}\": `;\n",
              "      div.appendChild(label);\n",
              "      const progress = document.createElement('progress');\n",
              "      progress.max = size;\n",
              "      div.appendChild(progress);\n",
              "      document.body.appendChild(div);\n",
              "\n",
              "      const buffers = [];\n",
              "      let downloaded = 0;\n",
              "\n",
              "      const channel = await google.colab.kernel.comms.open(id);\n",
              "      // Send a message to notify the kernel that we're ready.\n",
              "      channel.send({})\n",
              "\n",
              "      for await (const message of channel.messages) {\n",
              "        // Send a message to notify the kernel that we're ready.\n",
              "        channel.send({})\n",
              "        if (message.buffers) {\n",
              "          for (const buffer of message.buffers) {\n",
              "            buffers.push(buffer);\n",
              "            downloaded += buffer.byteLength;\n",
              "            progress.value = downloaded;\n",
              "          }\n",
              "        }\n",
              "      }\n",
              "      const blob = new Blob(buffers, {type: 'application/binary'});\n",
              "      const a = document.createElement('a');\n",
              "      a.href = window.URL.createObjectURL(blob);\n",
              "      a.download = filename;\n",
              "      div.appendChild(a);\n",
              "      a.click();\n",
              "      div.remove();\n",
              "    }\n",
              "  "
            ]
          },
          "metadata": {}
        },
        {
          "output_type": "display_data",
          "data": {
            "text/plain": [
              "<IPython.core.display.Javascript object>"
            ],
            "application/javascript": [
              "download(\"download_d273f23a-61cc-4374-a00f-e85c40182c86\", \"09_taxa_recuperacao_expandida.csv\", 938)"
            ]
          },
          "metadata": {}
        }
      ]
    }
  ]
}